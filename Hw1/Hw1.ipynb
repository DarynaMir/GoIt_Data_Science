{
 "cells": [
  {
   "cell_type": "code",
   "execution_count": 2,
   "metadata": {
    "id": "r4FAPf83nnil"
   },
   "outputs": [
    {
     "ename": "ModuleNotFoundError",
     "evalue": "No module named 'numpy'",
     "output_type": "error",
     "traceback": [
      "\u001b[0;31m---------------------------------------------------------------------------\u001b[0m",
      "\u001b[0;31mModuleNotFoundError\u001b[0m                       Traceback (most recent call last)",
      "Cell \u001b[0;32mIn[2], line 1\u001b[0m\n\u001b[0;32m----> 1\u001b[0m \u001b[39mimport\u001b[39;00m \u001b[39mnumpy\u001b[39;00m \u001b[39mas\u001b[39;00m \u001b[39mnp\u001b[39;00m\n",
      "\u001b[0;31mModuleNotFoundError\u001b[0m: No module named 'numpy'"
     ]
    }
   ],
   "source": [
    "import numpy as np"
   ]
  },
  {
   "cell_type": "markdown",
   "metadata": {
    "id": "dijKTtpIoJOp"
   },
   "source": [
    "1. Створіть одновимірний масив (вектор) з першими 10-ма натуральними числами та виведіть його значення."
   ]
  },
  {
   "cell_type": "code",
   "execution_count": 5,
   "metadata": {
    "id": "F5WHdHZzn0Qj"
   },
   "outputs": [],
   "source": [
    "vector1 = np.arange(1, 11)"
   ]
  },
  {
   "cell_type": "code",
   "execution_count": null,
   "metadata": {
    "colab": {
     "base_uri": "https://localhost:8080/"
    },
    "id": "kUdfxYYLoABh",
    "outputId": "47e39763-05b6-465c-ad53-54b0db1ae1f9"
   },
   "outputs": [
    {
     "name": "stdout",
     "output_type": "stream",
     "text": [
      "[ 1  2  3  4  5  6  7  8  9 10]\n"
     ]
    }
   ],
   "source": [
    "print(vector1)"
   ]
  },
  {
   "cell_type": "markdown",
   "metadata": {
    "id": "hJ5wlv4Eol8N"
   },
   "source": [
    "2. Створіть двовимірний масив (матрицю) розміром 3x3, заповніть його нулями та виведіть його значення."
   ]
  },
  {
   "cell_type": "code",
   "execution_count": null,
   "metadata": {
    "id": "rC1IXsvio1ac"
   },
   "outputs": [],
   "source": [
    "matrix2 = np.zeros((3, 3), dtype=float)"
   ]
  },
  {
   "cell_type": "code",
   "execution_count": null,
   "metadata": {
    "colab": {
     "base_uri": "https://localhost:8080/"
    },
    "id": "VTd3atrTp_YI",
    "outputId": "e29b257e-d838-4e20-af7b-dfa41da704f7"
   },
   "outputs": [
    {
     "name": "stdout",
     "output_type": "stream",
     "text": [
      "[[0. 0. 0.]\n",
      " [0. 0. 0.]\n",
      " [0. 0. 0.]]\n"
     ]
    }
   ],
   "source": [
    "print (matrix2)"
   ]
  },
  {
   "cell_type": "markdown",
   "metadata": {
    "id": "aEliuWk-q7rZ"
   },
   "source": [
    "3. Створіть масив розміром 5x5, заповніть його випадковими цілими числами в діапазоні від 1 до 10 та виведіть його значення."
   ]
  },
  {
   "cell_type": "code",
   "execution_count": null,
   "metadata": {
    "id": "uPI2bSODrImF"
   },
   "outputs": [],
   "source": [
    "matrix3 = np.random.randint(1, 11, size=(5, 5))"
   ]
  },
  {
   "cell_type": "code",
   "execution_count": null,
   "metadata": {
    "colab": {
     "base_uri": "https://localhost:8080/"
    },
    "id": "UDXJoAdnr-jY",
    "outputId": "6513143b-f4ae-4343-ca24-7a937878c757"
   },
   "outputs": [
    {
     "name": "stdout",
     "output_type": "stream",
     "text": [
      "[[5 2 9 7 8]\n",
      " [5 3 8 8 2]\n",
      " [7 2 7 6 5]\n",
      " [8 9 9 4 8]\n",
      " [9 9 2 3 5]]\n"
     ]
    }
   ],
   "source": [
    "print (matrix3)"
   ]
  },
  {
   "cell_type": "markdown",
   "metadata": {
    "id": "Yo-JzgLnsHX6"
   },
   "source": [
    "4. Створіть масив розміром 4x4, заповніть його випадковими дійсними числами в діапазоні від 0 до 1 та виведіть його значення."
   ]
  },
  {
   "cell_type": "code",
   "execution_count": null,
   "metadata": {
    "id": "JkZ8DtwGsfWu"
   },
   "outputs": [],
   "source": [
    "matrix4 = np. random.rand(4, 4)"
   ]
  },
  {
   "cell_type": "code",
   "execution_count": null,
   "metadata": {
    "colab": {
     "base_uri": "https://localhost:8080/"
    },
    "id": "2cjxwplitLtH",
    "outputId": "367d95c3-730f-4828-f51d-42e616a7ea56"
   },
   "outputs": [
    {
     "name": "stdout",
     "output_type": "stream",
     "text": [
      "[[0.78676677 0.13809374 0.56708733 0.58915984]\n",
      " [0.2001976  0.57562302 0.82447668 0.99628033]\n",
      " [0.29478713 0.54532862 0.79145205 0.30524119]\n",
      " [0.48789507 0.98118442 0.23083649 0.41926402]]\n"
     ]
    }
   ],
   "source": [
    "print(matrix4)"
   ]
  },
  {
   "cell_type": "markdown",
   "metadata": {
    "id": "a6H-hMs9tTZb"
   },
   "source": [
    "5. Створіть два одновимірних масиви розміром 5, заповніть їх випадковими цілими числами в діапазоні від 1 до 10 та виконайте на них поелементні операції додавання, віднімання та множення."
   ]
  },
  {
   "cell_type": "code",
   "execution_count": null,
   "metadata": {
    "id": "uznXuSDbtkgY"
   },
   "outputs": [],
   "source": [
    "vector5_1 = np.random.randint(1, 11, size=5)"
   ]
  },
  {
   "cell_type": "code",
   "execution_count": null,
   "metadata": {
    "id": "pRoAq23cuG9v"
   },
   "outputs": [],
   "source": [
    "vector5_2 = np.random.randint(1, 11, size=5)"
   ]
  },
  {
   "cell_type": "code",
   "execution_count": null,
   "metadata": {
    "colab": {
     "base_uri": "https://localhost:8080/"
    },
    "id": "FRjX-x_QurR4",
    "outputId": "1a419c71-d1fe-402b-ec05-0a1055d2ed5e"
   },
   "outputs": [
    {
     "name": "stdout",
     "output_type": "stream",
     "text": [
      "[ 9  7 10 10  2]\n"
     ]
    }
   ],
   "source": [
    "print (vector5_1)"
   ]
  },
  {
   "cell_type": "code",
   "execution_count": null,
   "metadata": {
    "colab": {
     "base_uri": "https://localhost:8080/"
    },
    "id": "pLcwFCE1u0JO",
    "outputId": "a9373876-7792-4b07-bf5b-59a28dec864a"
   },
   "outputs": [
    {
     "name": "stdout",
     "output_type": "stream",
     "text": [
      "[9 1 2 6 9]\n"
     ]
    }
   ],
   "source": [
    "print (vector5_2)"
   ]
  },
  {
   "cell_type": "code",
   "execution_count": null,
   "metadata": {
    "colab": {
     "base_uri": "https://localhost:8080/"
    },
    "id": "vos1ldOhuPUx",
    "outputId": "66e3c305-06d8-4b1a-8f75-fd6eecbc5b25"
   },
   "outputs": [
    {
     "name": "stdout",
     "output_type": "stream",
     "text": [
      "[18  8 12 16 11]\n"
     ]
    }
   ],
   "source": [
    "print (vector5_1+vector5_2)"
   ]
  },
  {
   "cell_type": "code",
   "execution_count": null,
   "metadata": {
    "colab": {
     "base_uri": "https://localhost:8080/"
    },
    "id": "xomh9S82u_aA",
    "outputId": "23c16746-72ab-4ace-df6c-b41f38badb2c"
   },
   "outputs": [
    {
     "name": "stdout",
     "output_type": "stream",
     "text": [
      "[ 0  6  8  4 -7]\n"
     ]
    }
   ],
   "source": [
    "print (vector5_1-vector5_2)"
   ]
  },
  {
   "cell_type": "code",
   "execution_count": null,
   "metadata": {
    "colab": {
     "base_uri": "https://localhost:8080/"
    },
    "id": "iYkxqpwpvAIG",
    "outputId": "b10dbf2a-5b09-446b-edf7-ab8199b00f66"
   },
   "outputs": [
    {
     "name": "stdout",
     "output_type": "stream",
     "text": [
      "[81  7 20 60 18]\n"
     ]
    }
   ],
   "source": [
    "print (vector5_1*vector5_2)"
   ]
  },
  {
   "cell_type": "markdown",
   "metadata": {
    "id": "uTbKEFaIw13F"
   },
   "source": [
    "6. Створіть два вектори розміром 7, заповніть довільними числами та знайдіть їх скалярний добуток."
   ]
  },
  {
   "cell_type": "code",
   "execution_count": null,
   "metadata": {
    "id": "DHwIXYTqxRA3"
   },
   "outputs": [],
   "source": [
    "vector6_1 = np.random.rand(7)"
   ]
  },
  {
   "cell_type": "code",
   "execution_count": null,
   "metadata": {
    "id": "rYxa2mxcxi79"
   },
   "outputs": [],
   "source": [
    "vector6_2 = np.random.rand(7)"
   ]
  },
  {
   "cell_type": "markdown",
   "metadata": {
    "id": "TNcMMdxdyhO2"
   },
   "source": []
  },
  {
   "cell_type": "code",
   "execution_count": null,
   "metadata": {
    "id": "RxzGiI56x0Ww"
   },
   "outputs": [],
   "source": [
    "print(np.dot(vector6_1, vector6_2))"
   ]
  },
  {
   "cell_type": "markdown",
   "metadata": {
    "id": "9ZFAB4xU2lBi"
   },
   "source": [
    "7. Створіть дві матриці розміром 2x2 та 2x3, заповніть їх випадковими цілими числами в діапазоні від 1 до 10 та перемножте їх між собою."
   ]
  },
  {
   "cell_type": "code",
   "execution_count": null,
   "metadata": {
    "id": "FNmphH_e2oWa"
   },
   "outputs": [],
   "source": [
    "matrix7_1 = np.random.randint(1, 11, size=(2,2))"
   ]
  },
  {
   "cell_type": "code",
   "execution_count": null,
   "metadata": {
    "id": "jtSmDJM33cU-"
   },
   "outputs": [],
   "source": [
    "matrix7_2 = np.random.randint(1, 11, size=(2,3))"
   ]
  },
  {
   "cell_type": "code",
   "execution_count": null,
   "metadata": {
    "id": "N_9HKM0y3mwj"
   },
   "outputs": [],
   "source": [
    "print(np.dot(matrix7_1, matrix7_2))"
   ]
  },
  {
   "cell_type": "markdown",
   "metadata": {
    "id": "JymkOtK131WV"
   },
   "source": [
    "8. Створіть матрицю розміром 3x3, заповніть її випадковими цілими числами в діапазоні від 1 до 10 та знайдіть її обернену матрицю."
   ]
  },
  {
   "cell_type": "code",
   "execution_count": null,
   "metadata": {
    "id": "0egGFtyy4N0W"
   },
   "outputs": [],
   "source": [
    "matrix8 = np.random.randint(1, 11, size=(3,3))"
   ]
  },
  {
   "cell_type": "code",
   "execution_count": null,
   "metadata": {
    "id": "p-fv3A5s43RF"
   },
   "outputs": [],
   "source": [
    "vector8_inv = np.linalg.inv(matrix8)"
   ]
  },
  {
   "cell_type": "code",
   "execution_count": null,
   "metadata": {
    "colab": {
     "base_uri": "https://localhost:8080/"
    },
    "id": "0Gc4hoYO5Awf",
    "outputId": "0e87c48b-c663-4e37-fe45-cd0469708749"
   },
   "outputs": [
    {
     "name": "stdout",
     "output_type": "stream",
     "text": [
      "[[8 6 8]\n",
      " [3 3 5]\n",
      " [8 6 2]]\n"
     ]
    }
   ],
   "source": [
    "print(matrix8)"
   ]
  },
  {
   "cell_type": "code",
   "execution_count": null,
   "metadata": {
    "colab": {
     "base_uri": "https://localhost:8080/"
    },
    "id": "wS50ge7J5Ewi",
    "outputId": "966dcada-908e-42c3-dd95-631ba5b6db77"
   },
   "outputs": [
    {
     "name": "stdout",
     "output_type": "stream",
     "text": [
      "[[ 0.66666667 -1.         -0.16666667]\n",
      " [-0.94444444  1.33333333  0.44444444]\n",
      " [ 0.16666667 -0.         -0.16666667]]\n"
     ]
    }
   ],
   "source": [
    "print(vector8_inv)"
   ]
  },
  {
   "cell_type": "markdown",
   "metadata": {
    "id": "Uh1Dt7Br5KhN"
   },
   "source": [
    "9. Створіть матрицю розміром 4x4, заповніть її випадковими дійсними числами в діапазоні від 0 до 1 та транспонуйте її."
   ]
  },
  {
   "cell_type": "code",
   "execution_count": null,
   "metadata": {
    "id": "2rzMPoHf5RGH"
   },
   "outputs": [],
   "source": [
    "matrix9 = np.random.rand(4,4)"
   ]
  },
  {
   "cell_type": "code",
   "execution_count": null,
   "metadata": {
    "colab": {
     "base_uri": "https://localhost:8080/"
    },
    "id": "oOZ6ZAtU5t8f",
    "outputId": "773c11cb-2a6d-4ae3-e4ac-62723bf94688"
   },
   "outputs": [
    {
     "name": "stdout",
     "output_type": "stream",
     "text": [
      "[[0.81160575 0.00320169 0.95420123 0.52632624]\n",
      " [0.59399896 0.91517892 0.69426668 0.06929925]\n",
      " [0.85856646 0.55755972 0.97951798 0.97752508]\n",
      " [0.86349635 0.90496848 0.11880838 0.05881808]]\n"
     ]
    }
   ],
   "source": [
    "print(np.transpose(matrix9))"
   ]
  },
  {
   "cell_type": "markdown",
   "metadata": {
    "id": "Fu-7wv597pxi"
   },
   "source": [
    "10. Створіть матрицю розміром 3x4 та вектор розміром 4, заповніть їх випадковими цілими числами в діапазоні від 1 до 10 та перемножте матрицю на вектор."
   ]
  },
  {
   "cell_type": "code",
   "execution_count": null,
   "metadata": {
    "id": "BuOV6ifO8Utl"
   },
   "outputs": [],
   "source": [
    "matrix10 = np.random.randint(1, 11, size=(3,4))"
   ]
  },
  {
   "cell_type": "code",
   "execution_count": null,
   "metadata": {
    "id": "HPoLB_bSTB9S"
   },
   "outputs": [],
   "source": [
    "vector10 = np.random.randint(1,11, size = 4)"
   ]
  },
  {
   "cell_type": "code",
   "execution_count": null,
   "metadata": {
    "colab": {
     "base_uri": "https://localhost:8080/"
    },
    "id": "2XXfAaB9Ti7i",
    "outputId": "694c3875-bcaa-4497-851b-e0bdd8fdaec0"
   },
   "outputs": [
    {
     "name": "stdout",
     "output_type": "stream",
     "text": [
      "[108  70  84]\n"
     ]
    }
   ],
   "source": [
    "print(np.dot(matrix10, vector10))"
   ]
  },
  {
   "cell_type": "markdown",
   "metadata": {
    "id": "doIFZX6h-FTY"
   },
   "source": [
    "11. Створіть матрицю розміром 2x3 та вектор розміром 3, заповніть їх випадковими дійсними числами в діапазоні від 0 до 1 та перемножте матрицю на вектор."
   ]
  },
  {
   "cell_type": "code",
   "execution_count": null,
   "metadata": {
    "id": "JTDvQMt3-Vgw"
   },
   "outputs": [],
   "source": [
    "matrix11 = np.random.rand(2,3)"
   ]
  },
  {
   "cell_type": "code",
   "execution_count": null,
   "metadata": {
    "id": "Llc2Sj_R-xRn"
   },
   "outputs": [],
   "source": [
    "vector11 = np.random.rand(3)"
   ]
  },
  {
   "cell_type": "code",
   "execution_count": null,
   "metadata": {
    "colab": {
     "base_uri": "https://localhost:8080/"
    },
    "id": "xcUC-FiL_HzL",
    "outputId": "fb7f36aa-14f9-487e-82c9-261cab624d8b"
   },
   "outputs": [
    {
     "name": "stdout",
     "output_type": "stream",
     "text": [
      "[0.43819984 0.17392658]\n"
     ]
    }
   ],
   "source": [
    "print(np.dot(matrix11, vector11))"
   ]
  },
  {
   "cell_type": "markdown",
   "metadata": {
    "id": "V0uW93LnRy-o"
   },
   "source": [
    "12. Створіть дві матриці розміром 2x2, заповніть їх випадковими цілими числами в діапазоні від 1 до 10 та виконайте їхнє поелементне множення."
   ]
  },
  {
   "cell_type": "code",
   "execution_count": null,
   "metadata": {
    "id": "OwSgg3BQR7Kk"
   },
   "outputs": [],
   "source": [
    "matrix12_1 = np.random.randint(1, 11, size=(2,2))"
   ]
  },
  {
   "cell_type": "code",
   "execution_count": null,
   "metadata": {
    "id": "jL-2Q-BlSWZS"
   },
   "outputs": [],
   "source": [
    "matrix12_2 = np.random.randint(1, 11, size=(2,2))"
   ]
  },
  {
   "cell_type": "code",
   "execution_count": null,
   "metadata": {
    "colab": {
     "base_uri": "https://localhost:8080/"
    },
    "id": "q24lZZ7oVHBZ",
    "outputId": "98bccc48-38a3-4e9e-eb92-ba5c6f36ce3b"
   },
   "outputs": [
    {
     "name": "stdout",
     "output_type": "stream",
     "text": [
      "[[54  9]\n",
      " [10 36]]\n"
     ]
    }
   ],
   "source": [
    "print(np.multiply(matrix12_1, matrix12_2))"
   ]
  },
  {
   "cell_type": "markdown",
   "metadata": {
    "id": "pUCwJcyUVWmq"
   },
   "source": [
    "13. Створіть дві матриці розміром 2x2, заповніть їх випадковими цілими числами в діапазоні від 1 до 10 та знайдіть їх добуток."
   ]
  },
  {
   "cell_type": "code",
   "execution_count": null,
   "metadata": {
    "id": "avMlyY-YVXgA"
   },
   "outputs": [],
   "source": [
    "matrix13_1 = np.random.rand(2,2)"
   ]
  },
  {
   "cell_type": "code",
   "execution_count": null,
   "metadata": {
    "id": "eY7Lv4hDVg1U"
   },
   "outputs": [],
   "source": [
    "matrix13_2 = np.random.rand(2,2)"
   ]
  },
  {
   "cell_type": "code",
   "execution_count": null,
   "metadata": {
    "colab": {
     "base_uri": "https://localhost:8080/"
    },
    "id": "ChNKA54NV2dq",
    "outputId": "4d0890b1-5764-42a8-fcab-3ab1678f0432"
   },
   "outputs": [
    {
     "name": "stdout",
     "output_type": "stream",
     "text": [
      "[[0.22908377 0.70320657]\n",
      " [0.09905071 0.30010899]]\n"
     ]
    }
   ],
   "source": [
    "print(np.matmul(matrix13_1, matrix13_2))"
   ]
  },
  {
   "cell_type": "markdown",
   "metadata": {
    "id": "gJfvljpiV9S9"
   },
   "source": [
    "14. Створіть матрицю розміром 5x5, заповніть її випадковими цілими числами в діапазоні від 1 до 100 та знайдіть суму елементів матриці."
   ]
  },
  {
   "cell_type": "code",
   "execution_count": null,
   "metadata": {
    "id": "is5o-RuuWDo1"
   },
   "outputs": [],
   "source": [
    "matrix14 = np.random.randint(1, 101, size=(5,5))"
   ]
  },
  {
   "cell_type": "code",
   "execution_count": null,
   "metadata": {
    "colab": {
     "base_uri": "https://localhost:8080/"
    },
    "id": "XHsWwtKgW34b",
    "outputId": "7accf92d-d595-4da0-aa39-b098c5293ef9"
   },
   "outputs": [
    {
     "name": "stdout",
     "output_type": "stream",
     "text": [
      "1358\n"
     ]
    }
   ],
   "source": [
    "print(matrix14.sum())"
   ]
  },
  {
   "cell_type": "markdown",
   "metadata": {
    "id": "NwspS4iKW-tw"
   },
   "source": [
    "15. Створіть дві матриці розміром 4x4, заповніть їх випадковими цілими числами в діапазоні від 1 до 10 та знайдіть їхню різницю."
   ]
  },
  {
   "cell_type": "code",
   "execution_count": null,
   "metadata": {
    "id": "4FThyhUsXHK_"
   },
   "outputs": [],
   "source": [
    "matrix15_1 = np.random.randint(1, 11, size=(4,4))"
   ]
  },
  {
   "cell_type": "code",
   "execution_count": null,
   "metadata": {
    "id": "yNBNC7RoXNja"
   },
   "outputs": [],
   "source": [
    "matrix15_2 = np.random.randint(1, 11, size=(4,4))"
   ]
  },
  {
   "cell_type": "code",
   "execution_count": null,
   "metadata": {
    "colab": {
     "base_uri": "https://localhost:8080/"
    },
    "id": "4vvKB7d6XSts",
    "outputId": "bd2a63f2-71f9-4470-845f-a0c57989c60d"
   },
   "outputs": [
    {
     "name": "stdout",
     "output_type": "stream",
     "text": [
      "[[ 4  4  2  2]\n",
      " [-8  3  3 -6]\n",
      " [-2 -5  6 -8]\n",
      " [ 2  0 -1 -6]]\n"
     ]
    }
   ],
   "source": [
    "print(np.subtract(matrix15_1, matrix15_2))"
   ]
  },
  {
   "cell_type": "markdown",
   "metadata": {
    "id": "VQo-CSD7YkAW"
   },
   "source": [
    "16. Створіть матрицю розміром 3x3, заповніть її випадковими дійсними числами в діапазоні від 0 до 1 та знайдіть вектор-стовпчик, що містить суму елементів кожного рядка матриці."
   ]
  },
  {
   "cell_type": "code",
   "execution_count": null,
   "metadata": {
    "id": "PrOVxBBqYpfq"
   },
   "outputs": [],
   "source": [
    "matrix16 = np.random.rand(3,3)"
   ]
  },
  {
   "cell_type": "code",
   "execution_count": null,
   "metadata": {
    "colab": {
     "base_uri": "https://localhost:8080/"
    },
    "id": "2NdJnIurZD6F",
    "outputId": "9cf8af40-a332-43a0-8c8d-5dc787b48d95"
   },
   "outputs": [
    {
     "name": "stdout",
     "output_type": "stream",
     "text": [
      "[1.13782174 1.37221235 1.09419169]\n"
     ]
    }
   ],
   "source": [
    "print(np.sum(matrix16, axis=0))"
   ]
  },
  {
   "cell_type": "markdown",
   "metadata": {
    "id": "941qh6qSZObL"
   },
   "source": []
  },
  {
   "cell_type": "markdown",
   "metadata": {
    "id": "LgqhUvi9v1ev"
   },
   "source": [
    "17. Створіть матрицю розміром 3x4 з довільними цілими числами і створінь матрицю з квадратами цих чисел."
   ]
  },
  {
   "cell_type": "code",
   "execution_count": null,
   "metadata": {
    "id": "BUUMbcwIxBl8"
   },
   "outputs": [],
   "source": [
    "matrix17 = np.random.randint(1, 100, size=(3, 4))"
   ]
  },
  {
   "cell_type": "code",
   "execution_count": null,
   "metadata": {
    "colab": {
     "base_uri": "https://localhost:8080/"
    },
    "id": "orkLVK74xG4x",
    "outputId": "f05dcbc9-53be-478a-ee3e-fb1753a3e832"
   },
   "outputs": [
    {
     "name": "stdout",
     "output_type": "stream",
     "text": [
      "[[  16  484  196 9409]\n",
      " [1849 9216 3249   81]\n",
      " [1369 2809 1225 1024]]\n"
     ]
    }
   ],
   "source": [
    "print(np.square(matrix17))"
   ]
  },
  {
   "cell_type": "markdown",
   "metadata": {
    "id": "774hpDjExNio"
   },
   "source": [
    "18. Створіть вектор розміром 4, заповніть його випадковими цілими числами в діапазоні від 1 до 50 та знайдіть вектор з квадратними коренями цих чисел."
   ]
  },
  {
   "cell_type": "code",
   "execution_count": null,
   "metadata": {
    "id": "-kbA1ozhxUd7"
   },
   "outputs": [],
   "source": [
    "vector18 = np.random.randint(1, 51, size = 4)"
   ]
  },
  {
   "cell_type": "code",
   "execution_count": null,
   "metadata": {
    "colab": {
     "base_uri": "https://localhost:8080/"
    },
    "id": "xsrNb9JUx4Or",
    "outputId": "aa9c112f-810b-4efa-8c4f-93d44586ca4c"
   },
   "outputs": [
    {
     "name": "stdout",
     "output_type": "stream",
     "text": [
      "[7.         6.8556546  6.40312424 2.        ]\n"
     ]
    }
   ],
   "source": [
    "print(np.sqrt(vector18))"
   ]
  }
 ],
 "metadata": {
  "colab": {
   "provenance": []
  },
  "kernelspec": {
   "display_name": "Python 3 (ipykernel)",
   "language": "python",
   "name": "python3"
  },
  "language_info": {
   "codemirror_mode": {
    "name": "ipython",
    "version": 3
   },
   "file_extension": ".py",
   "mimetype": "text/x-python",
   "name": "python",
   "nbconvert_exporter": "python",
   "pygments_lexer": "ipython3",
   "version": "3.11.4"
  }
 },
 "nbformat": 4,
 "nbformat_minor": 4
}
