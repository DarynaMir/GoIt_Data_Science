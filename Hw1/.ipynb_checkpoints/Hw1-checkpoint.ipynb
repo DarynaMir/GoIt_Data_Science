{
 "cells": [
  {
   "cell_type": "code",
   "execution_count": 53,
   "metadata": {
    "id": "r4FAPf83nnil"
   },
   "outputs": [],
   "source": [
    "import numpy as np"
   ]
  },
  {
   "cell_type": "markdown",
   "metadata": {
    "id": "dijKTtpIoJOp"
   },
   "source": [
    "1. Створіть одновимірний масив (вектор) з першими 10-ма натуральними числами та виведіть його значення."
   ]
  },
  {
   "cell_type": "code",
   "execution_count": 54,
   "metadata": {
    "id": "F5WHdHZzn0Qj"
   },
   "outputs": [],
   "source": [
    "vector1 = np.arange(1, 11)"
   ]
  },
  {
   "cell_type": "code",
   "execution_count": 4,
   "metadata": {
    "colab": {
     "base_uri": "https://localhost:8080/"
    },
    "id": "kUdfxYYLoABh",
    "outputId": "47e39763-05b6-465c-ad53-54b0db1ae1f9"
   },
   "outputs": [
    {
     "name": "stdout",
     "output_type": "stream",
     "text": [
      "[ 1  2  3  4  5  6  7  8  9 10]\n"
     ]
    }
   ],
   "source": [
    "print(vector1)"
   ]
  },
  {
   "cell_type": "markdown",
   "metadata": {
    "id": "hJ5wlv4Eol8N"
   },
   "source": [
    "2. Створіть двовимірний масив (матрицю) розміром 3x3, заповніть його нулями та виведіть його значення."
   ]
  },
  {
   "cell_type": "code",
   "execution_count": 5,
   "metadata": {
    "id": "rC1IXsvio1ac"
   },
   "outputs": [],
   "source": [
    "matrix2 = np.zeros((3, 3), dtype=float)"
   ]
  },
  {
   "cell_type": "code",
   "execution_count": 6,
   "metadata": {
    "colab": {
     "base_uri": "https://localhost:8080/"
    },
    "id": "VTd3atrTp_YI",
    "outputId": "e29b257e-d838-4e20-af7b-dfa41da704f7"
   },
   "outputs": [
    {
     "name": "stdout",
     "output_type": "stream",
     "text": [
      "[[0. 0. 0.]\n",
      " [0. 0. 0.]\n",
      " [0. 0. 0.]]\n"
     ]
    }
   ],
   "source": [
    "print (matrix2)"
   ]
  },
  {
   "cell_type": "markdown",
   "metadata": {
    "id": "aEliuWk-q7rZ"
   },
   "source": [
    "3. Створіть масив розміром 5x5, заповніть його випадковими цілими числами в діапазоні від 1 до 10 та виведіть його значення."
   ]
  },
  {
   "cell_type": "code",
   "execution_count": 7,
   "metadata": {
    "id": "uPI2bSODrImF"
   },
   "outputs": [],
   "source": [
    "matrix3 = np.random.randint(1, 11, size=(5, 5))"
   ]
  },
  {
   "cell_type": "code",
   "execution_count": 8,
   "metadata": {
    "colab": {
     "base_uri": "https://localhost:8080/"
    },
    "id": "UDXJoAdnr-jY",
    "outputId": "6513143b-f4ae-4343-ca24-7a937878c757"
   },
   "outputs": [
    {
     "name": "stdout",
     "output_type": "stream",
     "text": [
      "[[ 2  4  4  7  3]\n",
      " [ 8  5  7  2  2]\n",
      " [ 7  3  9  2  9]\n",
      " [ 6  8  8  8  8]\n",
      " [10  3  2  3  6]]\n"
     ]
    }
   ],
   "source": [
    "print (matrix3)"
   ]
  },
  {
   "cell_type": "markdown",
   "metadata": {
    "id": "Yo-JzgLnsHX6"
   },
   "source": [
    "4. Створіть масив розміром 4x4, заповніть його випадковими дійсними числами в діапазоні від 0 до 1 та виведіть його значення."
   ]
  },
  {
   "cell_type": "code",
   "execution_count": 9,
   "metadata": {
    "id": "JkZ8DtwGsfWu"
   },
   "outputs": [],
   "source": [
    "matrix4 = np. random.rand(4, 4)"
   ]
  },
  {
   "cell_type": "code",
   "execution_count": 10,
   "metadata": {
    "colab": {
     "base_uri": "https://localhost:8080/"
    },
    "id": "2cjxwplitLtH",
    "outputId": "367d95c3-730f-4828-f51d-42e616a7ea56"
   },
   "outputs": [
    {
     "name": "stdout",
     "output_type": "stream",
     "text": [
      "[[0.73970524 0.21174919 0.73933551 0.26726954]\n",
      " [0.16774618 0.99252201 0.51420123 0.01647522]\n",
      " [0.41142097 0.02149425 0.53331552 0.40640624]\n",
      " [0.51877519 0.70014942 0.45576798 0.22674941]]\n"
     ]
    }
   ],
   "source": [
    "print(matrix4)"
   ]
  },
  {
   "cell_type": "markdown",
   "metadata": {
    "id": "a6H-hMs9tTZb"
   },
   "source": [
    "5. Створіть два одновимірних масиви розміром 5, заповніть їх випадковими цілими числами в діапазоні від 1 до 10 та виконайте на них поелементні операції додавання, віднімання та множення."
   ]
  },
  {
   "cell_type": "code",
   "execution_count": 11,
   "metadata": {
    "id": "uznXuSDbtkgY"
   },
   "outputs": [],
   "source": [
    "vector5_1 = np.random.randint(1, 11, size=5)"
   ]
  },
  {
   "cell_type": "code",
   "execution_count": 12,
   "metadata": {
    "id": "pRoAq23cuG9v"
   },
   "outputs": [],
   "source": [
    "vector5_2 = np.random.randint(1, 11, size=5)"
   ]
  },
  {
   "cell_type": "code",
   "execution_count": 13,
   "metadata": {
    "colab": {
     "base_uri": "https://localhost:8080/"
    },
    "id": "FRjX-x_QurR4",
    "outputId": "1a419c71-d1fe-402b-ec05-0a1055d2ed5e"
   },
   "outputs": [
    {
     "name": "stdout",
     "output_type": "stream",
     "text": [
      "[4 2 1 9 5]\n"
     ]
    }
   ],
   "source": [
    "print (vector5_1)"
   ]
  },
  {
   "cell_type": "code",
   "execution_count": 14,
   "metadata": {
    "colab": {
     "base_uri": "https://localhost:8080/"
    },
    "id": "pLcwFCE1u0JO",
    "outputId": "a9373876-7792-4b07-bf5b-59a28dec864a"
   },
   "outputs": [
    {
     "name": "stdout",
     "output_type": "stream",
     "text": [
      "[3 1 5 1 7]\n"
     ]
    }
   ],
   "source": [
    "print (vector5_2)"
   ]
  },
  {
   "cell_type": "code",
   "execution_count": 15,
   "metadata": {
    "colab": {
     "base_uri": "https://localhost:8080/"
    },
    "id": "vos1ldOhuPUx",
    "outputId": "66e3c305-06d8-4b1a-8f75-fd6eecbc5b25"
   },
   "outputs": [
    {
     "name": "stdout",
     "output_type": "stream",
     "text": [
      "[ 7  3  6 10 12]\n"
     ]
    }
   ],
   "source": [
    "print (vector5_1+vector5_2)"
   ]
  },
  {
   "cell_type": "code",
   "execution_count": 16,
   "metadata": {
    "colab": {
     "base_uri": "https://localhost:8080/"
    },
    "id": "xomh9S82u_aA",
    "outputId": "23c16746-72ab-4ace-df6c-b41f38badb2c"
   },
   "outputs": [
    {
     "name": "stdout",
     "output_type": "stream",
     "text": [
      "[ 1  1 -4  8 -2]\n"
     ]
    }
   ],
   "source": [
    "print (vector5_1-vector5_2)"
   ]
  },
  {
   "cell_type": "code",
   "execution_count": 17,
   "metadata": {
    "colab": {
     "base_uri": "https://localhost:8080/"
    },
    "id": "iYkxqpwpvAIG",
    "outputId": "b10dbf2a-5b09-446b-edf7-ab8199b00f66"
   },
   "outputs": [
    {
     "name": "stdout",
     "output_type": "stream",
     "text": [
      "[12  2  5  9 35]\n"
     ]
    }
   ],
   "source": [
    "print (vector5_1*vector5_2)"
   ]
  },
  {
   "cell_type": "markdown",
   "metadata": {
    "id": "uTbKEFaIw13F"
   },
   "source": [
    "6. Створіть два вектори розміром 7, заповніть довільними числами та знайдіть їх скалярний добуток."
   ]
  },
  {
   "cell_type": "code",
   "execution_count": 18,
   "metadata": {
    "id": "DHwIXYTqxRA3"
   },
   "outputs": [],
   "source": [
    "vector6_1 = np.random.rand(7)"
   ]
  },
  {
   "cell_type": "code",
   "execution_count": 19,
   "metadata": {
    "id": "rYxa2mxcxi79"
   },
   "outputs": [],
   "source": [
    "vector6_2 = np.random.rand(7)"
   ]
  },
  {
   "cell_type": "markdown",
   "metadata": {
    "id": "TNcMMdxdyhO2"
   },
   "source": []
  },
  {
   "cell_type": "code",
   "execution_count": 20,
   "metadata": {
    "id": "RxzGiI56x0Ww"
   },
   "outputs": [
    {
     "name": "stdout",
     "output_type": "stream",
     "text": [
      "1.9126600804620757\n"
     ]
    }
   ],
   "source": [
    "print(np.dot(vector6_1, vector6_2))"
   ]
  },
  {
   "cell_type": "markdown",
   "metadata": {
    "id": "9ZFAB4xU2lBi"
   },
   "source": [
    "7. Створіть дві матриці розміром 2x2 та 2x3, заповніть їх випадковими цілими числами в діапазоні від 1 до 10 та перемножте їх між собою."
   ]
  },
  {
   "cell_type": "code",
   "execution_count": 21,
   "metadata": {
    "id": "FNmphH_e2oWa"
   },
   "outputs": [],
   "source": [
    "matrix7_1 = np.random.randint(1, 11, size=(2,2))"
   ]
  },
  {
   "cell_type": "code",
   "execution_count": 22,
   "metadata": {
    "id": "jtSmDJM33cU-"
   },
   "outputs": [],
   "source": [
    "matrix7_2 = np.random.randint(1, 11, size=(2,3))"
   ]
  },
  {
   "cell_type": "code",
   "execution_count": 23,
   "metadata": {
    "id": "N_9HKM0y3mwj"
   },
   "outputs": [
    {
     "name": "stdout",
     "output_type": "stream",
     "text": [
      "[[ 51 117 111]\n",
      " [ 73 102  86]]\n"
     ]
    }
   ],
   "source": [
    "print(np.dot(matrix7_1, matrix7_2))"
   ]
  },
  {
   "cell_type": "markdown",
   "metadata": {
    "id": "JymkOtK131WV"
   },
   "source": [
    "8. Створіть матрицю розміром 3x3, заповніть її випадковими цілими числами в діапазоні від 1 до 10 та знайдіть її обернену матрицю."
   ]
  },
  {
   "cell_type": "code",
   "execution_count": 24,
   "metadata": {
    "id": "0egGFtyy4N0W"
   },
   "outputs": [],
   "source": [
    "matrix8 = np.random.randint(1, 11, size=(3,3))"
   ]
  },
  {
   "cell_type": "code",
   "execution_count": 25,
   "metadata": {
    "id": "p-fv3A5s43RF"
   },
   "outputs": [],
   "source": [
    "vector8_inv = np.linalg.inv(matrix8)"
   ]
  },
  {
   "cell_type": "code",
   "execution_count": 26,
   "metadata": {
    "colab": {
     "base_uri": "https://localhost:8080/"
    },
    "id": "0Gc4hoYO5Awf",
    "outputId": "0e87c48b-c663-4e37-fe45-cd0469708749"
   },
   "outputs": [
    {
     "name": "stdout",
     "output_type": "stream",
     "text": [
      "[[ 3 10  9]\n",
      " [ 2 10  5]\n",
      " [10 10  4]]\n"
     ]
    }
   ],
   "source": [
    "print(matrix8)"
   ]
  },
  {
   "cell_type": "code",
   "execution_count": 27,
   "metadata": {
    "colab": {
     "base_uri": "https://localhost:8080/"
    },
    "id": "wS50ge7J5Ewi",
    "outputId": "966dcada-908e-42c3-dd95-631ba5b6db77"
   },
   "outputs": [
    {
     "name": "stdout",
     "output_type": "stream",
     "text": [
      "[[ 0.03030303 -0.15151515  0.12121212]\n",
      " [-0.12727273  0.23636364 -0.00909091]\n",
      " [ 0.24242424 -0.21212121 -0.03030303]]\n"
     ]
    }
   ],
   "source": [
    "print(vector8_inv)"
   ]
  },
  {
   "cell_type": "markdown",
   "metadata": {
    "id": "Uh1Dt7Br5KhN"
   },
   "source": [
    "9. Створіть матрицю розміром 4x4, заповніть її випадковими дійсними числами в діапазоні від 0 до 1 та транспонуйте її."
   ]
  },
  {
   "cell_type": "code",
   "execution_count": 28,
   "metadata": {
    "id": "2rzMPoHf5RGH"
   },
   "outputs": [],
   "source": [
    "matrix9 = np.random.rand(4,4)"
   ]
  },
  {
   "cell_type": "code",
   "execution_count": 29,
   "metadata": {
    "colab": {
     "base_uri": "https://localhost:8080/"
    },
    "id": "oOZ6ZAtU5t8f",
    "outputId": "773c11cb-2a6d-4ae3-e4ac-62723bf94688"
   },
   "outputs": [
    {
     "name": "stdout",
     "output_type": "stream",
     "text": [
      "[[0.97526032 0.11940125 0.60313988 0.92296742]\n",
      " [0.70766587 0.47674745 0.02633816 0.46025425]\n",
      " [0.36903074 0.25834487 0.12060524 0.36510639]\n",
      " [0.49388357 0.6283031  0.71882641 0.69784485]]\n"
     ]
    }
   ],
   "source": [
    "print(np.transpose(matrix9))"
   ]
  },
  {
   "cell_type": "markdown",
   "metadata": {
    "id": "Fu-7wv597pxi"
   },
   "source": [
    "10. Створіть матрицю розміром 3x4 та вектор розміром 4, заповніть їх випадковими цілими числами в діапазоні від 1 до 10 та перемножте матрицю на вектор."
   ]
  },
  {
   "cell_type": "code",
   "execution_count": 30,
   "metadata": {
    "id": "BuOV6ifO8Utl"
   },
   "outputs": [],
   "source": [
    "matrix10 = np.random.randint(1, 11, size=(3,4))"
   ]
  },
  {
   "cell_type": "code",
   "execution_count": 31,
   "metadata": {
    "id": "HPoLB_bSTB9S"
   },
   "outputs": [],
   "source": [
    "vector10 = np.random.randint(1,11, size = 4)"
   ]
  },
  {
   "cell_type": "code",
   "execution_count": 32,
   "metadata": {
    "colab": {
     "base_uri": "https://localhost:8080/"
    },
    "id": "2XXfAaB9Ti7i",
    "outputId": "694c3875-bcaa-4497-851b-e0bdd8fdaec0"
   },
   "outputs": [
    {
     "name": "stdout",
     "output_type": "stream",
     "text": [
      "[ 65 129  62]\n"
     ]
    }
   ],
   "source": [
    "print(np.dot(matrix10, vector10))"
   ]
  },
  {
   "cell_type": "markdown",
   "metadata": {
    "id": "doIFZX6h-FTY"
   },
   "source": [
    "11. Створіть матрицю розміром 2x3 та вектор розміром 3, заповніть їх випадковими дійсними числами в діапазоні від 0 до 1 та перемножте матрицю на вектор."
   ]
  },
  {
   "cell_type": "code",
   "execution_count": 33,
   "metadata": {
    "id": "JTDvQMt3-Vgw"
   },
   "outputs": [],
   "source": [
    "matrix11 = np.random.rand(2,3)"
   ]
  },
  {
   "cell_type": "code",
   "execution_count": 34,
   "metadata": {
    "id": "Llc2Sj_R-xRn"
   },
   "outputs": [],
   "source": [
    "vector11 = np.random.rand(3)"
   ]
  },
  {
   "cell_type": "code",
   "execution_count": 35,
   "metadata": {
    "colab": {
     "base_uri": "https://localhost:8080/"
    },
    "id": "xcUC-FiL_HzL",
    "outputId": "fb7f36aa-14f9-487e-82c9-261cab624d8b"
   },
   "outputs": [
    {
     "name": "stdout",
     "output_type": "stream",
     "text": [
      "[0.89037183 0.81512856]\n"
     ]
    }
   ],
   "source": [
    "print(np.dot(matrix11, vector11))"
   ]
  },
  {
   "cell_type": "markdown",
   "metadata": {
    "id": "V0uW93LnRy-o"
   },
   "source": [
    "12. Створіть дві матриці розміром 2x2, заповніть їх випадковими цілими числами в діапазоні від 1 до 10 та виконайте їхнє поелементне множення."
   ]
  },
  {
   "cell_type": "code",
   "execution_count": 36,
   "metadata": {
    "id": "OwSgg3BQR7Kk"
   },
   "outputs": [],
   "source": [
    "matrix12_1 = np.random.randint(1, 11, size=(2,2))"
   ]
  },
  {
   "cell_type": "code",
   "execution_count": 37,
   "metadata": {
    "id": "jL-2Q-BlSWZS"
   },
   "outputs": [],
   "source": [
    "matrix12_2 = np.random.randint(1, 11, size=(2,2))"
   ]
  },
  {
   "cell_type": "code",
   "execution_count": 38,
   "metadata": {
    "colab": {
     "base_uri": "https://localhost:8080/"
    },
    "id": "q24lZZ7oVHBZ",
    "outputId": "98bccc48-38a3-4e9e-eb92-ba5c6f36ce3b"
   },
   "outputs": [
    {
     "name": "stdout",
     "output_type": "stream",
     "text": [
      "[[ 9 63]\n",
      " [15 54]]\n"
     ]
    }
   ],
   "source": [
    "print(np.multiply(matrix12_1, matrix12_2))"
   ]
  },
  {
   "cell_type": "markdown",
   "metadata": {
    "id": "pUCwJcyUVWmq"
   },
   "source": [
    "13. Створіть дві матриці розміром 2x2, заповніть їх випадковими цілими числами в діапазоні від 1 до 10 та знайдіть їх добуток."
   ]
  },
  {
   "cell_type": "code",
   "execution_count": 39,
   "metadata": {
    "id": "avMlyY-YVXgA"
   },
   "outputs": [],
   "source": [
    "matrix13_1 = np.random.rand(2,2)"
   ]
  },
  {
   "cell_type": "code",
   "execution_count": 40,
   "metadata": {
    "id": "eY7Lv4hDVg1U"
   },
   "outputs": [],
   "source": [
    "matrix13_2 = np.random.rand(2,2)"
   ]
  },
  {
   "cell_type": "code",
   "execution_count": 41,
   "metadata": {
    "colab": {
     "base_uri": "https://localhost:8080/"
    },
    "id": "ChNKA54NV2dq",
    "outputId": "4d0890b1-5764-42a8-fcab-3ab1678f0432"
   },
   "outputs": [
    {
     "name": "stdout",
     "output_type": "stream",
     "text": [
      "[[0.80036392 0.16685434]\n",
      " [0.52375149 0.24513949]]\n"
     ]
    }
   ],
   "source": [
    "print(np.matmul(matrix13_1, matrix13_2))"
   ]
  },
  {
   "cell_type": "markdown",
   "metadata": {
    "id": "gJfvljpiV9S9"
   },
   "source": [
    "14. Створіть матрицю розміром 5x5, заповніть її випадковими цілими числами в діапазоні від 1 до 100 та знайдіть суму елементів матриці."
   ]
  },
  {
   "cell_type": "code",
   "execution_count": 42,
   "metadata": {
    "id": "is5o-RuuWDo1"
   },
   "outputs": [],
   "source": [
    "matrix14 = np.random.randint(1, 101, size=(5,5))"
   ]
  },
  {
   "cell_type": "code",
   "execution_count": 43,
   "metadata": {
    "colab": {
     "base_uri": "https://localhost:8080/"
    },
    "id": "XHsWwtKgW34b",
    "outputId": "7accf92d-d595-4da0-aa39-b098c5293ef9"
   },
   "outputs": [
    {
     "name": "stdout",
     "output_type": "stream",
     "text": [
      "1139\n"
     ]
    }
   ],
   "source": [
    "print(matrix14.sum())"
   ]
  },
  {
   "cell_type": "markdown",
   "metadata": {
    "id": "NwspS4iKW-tw"
   },
   "source": [
    "15. Створіть дві матриці розміром 4x4, заповніть їх випадковими цілими числами в діапазоні від 1 до 10 та знайдіть їхню різницю."
   ]
  },
  {
   "cell_type": "code",
   "execution_count": 44,
   "metadata": {
    "id": "4FThyhUsXHK_"
   },
   "outputs": [],
   "source": [
    "matrix15_1 = np.random.randint(1, 11, size=(4,4))"
   ]
  },
  {
   "cell_type": "code",
   "execution_count": 45,
   "metadata": {
    "id": "yNBNC7RoXNja"
   },
   "outputs": [],
   "source": [
    "matrix15_2 = np.random.randint(1, 11, size=(4,4))"
   ]
  },
  {
   "cell_type": "code",
   "execution_count": 46,
   "metadata": {
    "colab": {
     "base_uri": "https://localhost:8080/"
    },
    "id": "4vvKB7d6XSts",
    "outputId": "bd2a63f2-71f9-4470-845f-a0c57989c60d"
   },
   "outputs": [
    {
     "name": "stdout",
     "output_type": "stream",
     "text": [
      "[[ 5 -4 -1  6]\n",
      " [-2 -4  4  8]\n",
      " [ 1  5  0 -4]\n",
      " [ 2  8  8  4]]\n"
     ]
    }
   ],
   "source": [
    "print(np.subtract(matrix15_1, matrix15_2))"
   ]
  },
  {
   "cell_type": "markdown",
   "metadata": {
    "id": "VQo-CSD7YkAW"
   },
   "source": [
    "16. Створіть матрицю розміром 3x3, заповніть її випадковими дійсними числами в діапазоні від 0 до 1 та знайдіть вектор-стовпчик, що містить суму елементів кожного рядка матриці."
   ]
  },
  {
   "cell_type": "code",
   "execution_count": 47,
   "metadata": {
    "id": "PrOVxBBqYpfq"
   },
   "outputs": [],
   "source": [
    "matrix16 = np.random.rand(3,3)"
   ]
  },
  {
   "cell_type": "code",
   "execution_count": 48,
   "metadata": {
    "colab": {
     "base_uri": "https://localhost:8080/"
    },
    "id": "2NdJnIurZD6F",
    "outputId": "9cf8af40-a332-43a0-8c8d-5dc787b48d95"
   },
   "outputs": [
    {
     "name": "stdout",
     "output_type": "stream",
     "text": [
      "[0.97464865 0.97552451 1.58576012]\n"
     ]
    }
   ],
   "source": [
    "print(np.sum(matrix16, axis=0))"
   ]
  },
  {
   "cell_type": "markdown",
   "metadata": {
    "id": "941qh6qSZObL"
   },
   "source": []
  },
  {
   "cell_type": "markdown",
   "metadata": {
    "id": "LgqhUvi9v1ev"
   },
   "source": [
    "17. Створіть матрицю розміром 3x4 з довільними цілими числами і створінь матрицю з квадратами цих чисел."
   ]
  },
  {
   "cell_type": "code",
   "execution_count": 49,
   "metadata": {
    "id": "BUUMbcwIxBl8"
   },
   "outputs": [],
   "source": [
    "matrix17 = np.random.randint(1, 100, size=(3, 4))"
   ]
  },
  {
   "cell_type": "code",
   "execution_count": 50,
   "metadata": {
    "colab": {
     "base_uri": "https://localhost:8080/"
    },
    "id": "orkLVK74xG4x",
    "outputId": "f05dcbc9-53be-478a-ee3e-fb1753a3e832"
   },
   "outputs": [
    {
     "name": "stdout",
     "output_type": "stream",
     "text": [
      "[[   1 2209 3364 6724]\n",
      " [ 121 7921  289 3136]\n",
      " [ 100 1156 9025  900]]\n"
     ]
    }
   ],
   "source": [
    "print(np.square(matrix17))"
   ]
  },
  {
   "cell_type": "markdown",
   "metadata": {
    "id": "774hpDjExNio"
   },
   "source": [
    "18. Створіть вектор розміром 4, заповніть його випадковими цілими числами в діапазоні від 1 до 50 та знайдіть вектор з квадратними коренями цих чисел."
   ]
  },
  {
   "cell_type": "code",
   "execution_count": 51,
   "metadata": {
    "id": "-kbA1ozhxUd7"
   },
   "outputs": [],
   "source": [
    "vector18 = np.random.randint(1, 51, size = 4)"
   ]
  },
  {
   "cell_type": "code",
   "execution_count": 52,
   "metadata": {
    "colab": {
     "base_uri": "https://localhost:8080/"
    },
    "id": "xsrNb9JUx4Or",
    "outputId": "aa9c112f-810b-4efa-8c4f-93d44586ca4c"
   },
   "outputs": [
    {
     "name": "stdout",
     "output_type": "stream",
     "text": [
      "[4.58257569 5.         3.87298335 6.164414  ]\n"
     ]
    }
   ],
   "source": [
    "print(np.sqrt(vector18))"
   ]
  }
 ],
 "metadata": {
  "colab": {
   "provenance": []
  },
  "kernelspec": {
   "display_name": "Python 3 (ipykernel)",
   "language": "python",
   "name": "python3"
  },
  "language_info": {
   "codemirror_mode": {
    "name": "ipython",
    "version": 3
   },
   "file_extension": ".py",
   "mimetype": "text/x-python",
   "name": "python",
   "nbconvert_exporter": "python",
   "pygments_lexer": "ipython3",
   "version": "3.11.4"
  }
 },
 "nbformat": 4,
 "nbformat_minor": 4
}
