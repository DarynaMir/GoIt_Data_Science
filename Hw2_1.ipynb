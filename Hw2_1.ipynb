{
  "cells": [
    {
      "cell_type": "markdown",
      "metadata": {
        "id": "view-in-github",
        "colab_type": "text"
      },
      "source": [
        "<a href=\"https://colab.research.google.com/github/DarynaMir/GoIt_Data_Science/blob/main/Hw2_1.ipynb\" target=\"_parent\"><img src=\"https://colab.research.google.com/assets/colab-badge.svg\" alt=\"Open In Colab\"/></a>"
      ]
    },
    {
      "cell_type": "code",
      "execution_count": null,
      "metadata": {
        "id": "Z8h4Fw4-dMuj",
        "colab": {
          "base_uri": "https://localhost:8080/"
        },
        "outputId": "b602161c-c3e5-403a-8d0a-5102b25b87e2"
      },
      "outputs": [
        {
          "output_type": "stream",
          "name": "stdout",
          "text": [
            "Table 13:\n",
            "             Регіон   1950   1960   1970  1990  2000  2012 2014 2019\n",
            "0              Крим  230.0  206.0  160.0   130    73   126    —    —\n",
            "1         Вінницька  224.0  192.0  142.0   124    84   112  109   76\n",
            "2         Волинська  247.0  250.0  179.0   153   112   148  141  101\n",
            "3  Дніпропетровська  204.0  204.0  151.0   123    71   112  111   71\n",
            "4          Донецька  271.0  214.0  140.0   109    61    98   82    —\n"
          ]
        }
      ],
      "source": [
        "import pandas as pd\n",
        "import numpy as np\n",
        "import matplotlib.pyplot as plt\n",
        "import requests\n",
        "from bs4 import UnicodeDammit\n",
        "\n",
        "# URL of the page containing the table\n",
        "url = \"https://uk.wikipedia.org/wiki/Населення_України\"\n",
        "\n",
        "response = requests.get(url)\n",
        "response.encoding = UnicodeDammit(response.content).original_encoding\n",
        "\n",
        "tables = pd.read_html(response.text, header=None)\n",
        "table_13 = tables[12]\n",
        "\n",
        "print(\"Table 13:\")\n",
        "print(table_13.head())"
      ]
    },
    {
      "cell_type": "code",
      "source": [
        "print(\"Shape of Table 13:\", table_13.shape)"
      ],
      "metadata": {
        "colab": {
          "base_uri": "https://localhost:8080/"
        },
        "id": "LWSxZmhPi7h0",
        "outputId": "584db90a-1649-4cb4-f22d-059d95cb1fa0"
      },
      "execution_count": null,
      "outputs": [
        {
          "output_type": "stream",
          "name": "stdout",
          "text": [
            "Shape of Table 13: (28, 9)\n"
          ]
        }
      ]
    },
    {
      "cell_type": "code",
      "source": [
        "table_13.replace(\"—\", np.nan, inplace=True)\n",
        "\n",
        "print(\"Table 13 after replacing '—' with NaN:\")\n",
        "print(table_13.head())"
      ],
      "metadata": {
        "colab": {
          "base_uri": "https://localhost:8080/"
        },
        "id": "psiMxavBjLu7",
        "outputId": "4b6fcd30-7ddb-4be4-a97d-9adb59442f4a"
      },
      "execution_count": null,
      "outputs": [
        {
          "output_type": "stream",
          "name": "stdout",
          "text": [
            "Table 13 after replacing '—' with NaN:\n",
            "             Регіон   1950   1960   1970  1990  2000  2012 2014 2019\n",
            "0              Крим  230.0  206.0  160.0   130    73   126  NaN  NaN\n",
            "1         Вінницька  224.0  192.0  142.0   124    84   112  109   76\n",
            "2         Волинська  247.0  250.0  179.0   153   112   148  141  101\n",
            "3  Дніпропетровська  204.0  204.0  151.0   123    71   112  111   71\n",
            "4          Донецька  271.0  214.0  140.0   109    61    98   82  NaN\n"
          ]
        }
      ]
    },
    {
      "cell_type": "code",
      "source": [
        "print(table_13.dtypes)"
      ],
      "metadata": {
        "colab": {
          "base_uri": "https://localhost:8080/"
        },
        "id": "5VnuddBPj4vx",
        "outputId": "33980527-7bf2-44ae-a802-d12cc5d40fa2"
      },
      "execution_count": null,
      "outputs": [
        {
          "output_type": "stream",
          "name": "stdout",
          "text": [
            "Регіон     object\n",
            "1950      float64\n",
            "1960      float64\n",
            "1970      float64\n",
            "1990        int64\n",
            "2000        int64\n",
            "2012        int64\n",
            "2014       object\n",
            "2019       object\n",
            "dtype: object\n"
          ]
        }
      ]
    },
    {
      "cell_type": "code",
      "source": [
        "for col in table_13.columns[1:]:\n",
        "    table_13[col] = pd.to_numeric(table_13[col], errors='coerce')\n",
        "print(\"Data types after conversion:\")\n",
        "print(table_13.dtypes)"
      ],
      "metadata": {
        "colab": {
          "base_uri": "https://localhost:8080/"
        },
        "id": "G0Poa3J1kOVu",
        "outputId": "f9a8b47f-70a9-4b6b-9729-593283ecfdb1"
      },
      "execution_count": null,
      "outputs": [
        {
          "output_type": "stream",
          "name": "stdout",
          "text": [
            "Data types after conversion:\n",
            "Регіон     object\n",
            "1950      float64\n",
            "1960      float64\n",
            "1970      float64\n",
            "1990        int64\n",
            "2000        int64\n",
            "2012        int64\n",
            "2014      float64\n",
            "2019      float64\n",
            "dtype: object\n"
          ]
        }
      ]
    },
    {
      "cell_type": "code",
      "source": [
        "missing_values = table_13.isnull().sum() / len(table_13)\n",
        "print(\"Proportion of missing values in each column:\\n\", missing_values)"
      ],
      "metadata": {
        "colab": {
          "base_uri": "https://localhost:8080/"
        },
        "id": "xEiRqGj7pCp3",
        "outputId": "f5580682-0d5e-4103-c23a-33a729d3b815"
      },
      "execution_count": null,
      "outputs": [
        {
          "output_type": "stream",
          "name": "stdout",
          "text": [
            "Proportion of missing values in each column:\n",
            " Регіон    0.000000\n",
            "1950      0.071429\n",
            "1960      0.035714\n",
            "1970      0.035714\n",
            "1990      0.000000\n",
            "2000      0.000000\n",
            "2012      0.000000\n",
            "2014      0.071429\n",
            "2019      0.142857\n",
            "dtype: float64\n"
          ]
        }
      ]
    },
    {
      "cell_type": "code",
      "source": [
        "table_13 = table_13.iloc[:-1]\n",
        "print(\"Remove the last row:\\n\", table_13)"
      ],
      "metadata": {
        "colab": {
          "base_uri": "https://localhost:8080/"
        },
        "id": "53a_Musw_nbK",
        "outputId": "83f83255-5a5a-4e2f-b796-3f23a7cf7f57"
      },
      "execution_count": null,
      "outputs": [
        {
          "output_type": "stream",
          "name": "stdout",
          "text": [
            "Remove the last row:\n",
            "                Регіон   1950   1960   1970  1990  2000  2012   2014   2019\n",
            "0                Крим  230.0  206.0  160.0   130    73   126    NaN    NaN\n",
            "1           Вінницька  224.0  192.0  142.0   124    84   112  109.0   76.0\n",
            "2           Волинська  247.0  250.0  179.0   153   112   148  141.0  101.0\n",
            "3    Дніпропетровська  204.0  204.0  151.0   123    71   112  111.0   71.0\n",
            "4            Донецька  271.0  214.0  140.0   109    61    98   82.0    NaN\n",
            "5         Житомирська  261.0  223.0  159.0   129    89   122  120.0   79.0\n",
            "6        Закарпатська  314.0  273.0  207.0   168   115   151  146.0  104.0\n",
            "7          Запорізька  219.0  197.0  150.0   124    71   106  106.0   68.0\n",
            "8   Івано-Франківська  243.0  248.0  182.0   155   103   124  122.0   88.0\n",
            "9            Київська  204.0  189.0  156.0   123    73   122  121.0   80.0\n",
            "10     Кіровоградська  216.0  171.0  145.0   126    79   110  108.0   68.0\n",
            "11          Луганська  262.0  235.0  144.0   116    62    96   51.0    NaN\n",
            "12          Львівська  234.0  240.0  171.0   140    91   119  119.0   87.0\n",
            "13       Миколаївська  211.0  194.0  155.0   137    80   115  112.0   71.0\n",
            "14            Одеська  241.0  192.0  148.0   126    80   127  123.0   88.0\n",
            "15         Полтавська  186.0  163.0  131.0   118    70    99  100.0   65.0\n",
            "16         Рівненська  269.0  267.0  193.0   158   118   159  148.0  107.0\n",
            "17            Сумська  216.0  184.0  132.0   115    70    97   92.0   60.0\n",
            "18      Тернопільська  213.0  216.0  157.0   142    92   113  109.0   76.0\n",
            "19         Харківська  197.0  173.0  140.0   114    68    99  101.0   68.0\n",
            "20         Херсонська  208.0  214.0  166.0   143    85   117  115.0   81.0\n",
            "21        Хмельницька  234.0  198.0  148.0   129    85   113  112.0   79.0\n",
            "22          Черкаська  205.0  179.0  144.0   123    75   100   98.0   64.0\n",
            "23        Чернівецька  247.0  218.0  170.0   148   101   128  129.0   92.0\n",
            "24       Чернігівська  220.0  183.0  127.0   108    69    94   90.0   61.0\n",
            "25               Київ    NaN  174.0  159.0   120    73   120  121.0  110.0\n",
            "26        Севастополь    NaN    NaN    NaN   125    70   120    NaN    NaN\n"
          ]
        }
      ]
    },
    {
      "cell_type": "code",
      "source": [
        "table_13.replace(\"—\", np.nan, inplace=True)\n",
        "for col in table_13.columns[1:]:\n",
        "    table_13[col] = pd.to_numeric(table_13[col], errors='coerce')\n",
        "numeric_cols = table_13.columns[1:]\n",
        "table_13[numeric_cols] = table_13[numeric_cols].apply(lambda x: x.fillna(x.mean()))\n",
        "\n",
        "print(\"Fill missing values with the column mean:\\n\", table_13)"
      ],
      "metadata": {
        "colab": {
          "base_uri": "https://localhost:8080/"
        },
        "id": "JnwkukEFBwZX",
        "outputId": "0744add7-ab55-4e17-dfb3-2fa205c3dddc"
      },
      "execution_count": null,
      "outputs": [
        {
          "output_type": "stream",
          "name": "stdout",
          "text": [
            "Fill missing values with the column mean:\n",
            "                Регіон    1950        1960   1970  1990  2000  2012    2014  \\\n",
            "0                Крим  230.00  206.000000  160.0   130    73   126  111.44   \n",
            "1           Вінницька  224.00  192.000000  142.0   124    84   112  109.00   \n",
            "2           Волинська  247.00  250.000000  179.0   153   112   148  141.00   \n",
            "3    Дніпропетровська  204.00  204.000000  151.0   123    71   112  111.00   \n",
            "4            Донецька  271.00  214.000000  140.0   109    61    98   82.00   \n",
            "5         Житомирська  261.00  223.000000  159.0   129    89   122  120.00   \n",
            "6        Закарпатська  314.00  273.000000  207.0   168   115   151  146.00   \n",
            "7          Запорізька  219.00  197.000000  150.0   124    71   106  106.00   \n",
            "8   Івано-Франківська  243.00  248.000000  182.0   155   103   124  122.00   \n",
            "9            Київська  204.00  189.000000  156.0   123    73   122  121.00   \n",
            "10     Кіровоградська  216.00  171.000000  145.0   126    79   110  108.00   \n",
            "11          Луганська  262.00  235.000000  144.0   116    62    96   51.00   \n",
            "12          Львівська  234.00  240.000000  171.0   140    91   119  119.00   \n",
            "13       Миколаївська  211.00  194.000000  155.0   137    80   115  112.00   \n",
            "14            Одеська  241.00  192.000000  148.0   126    80   127  123.00   \n",
            "15         Полтавська  186.00  163.000000  131.0   118    70    99  100.00   \n",
            "16         Рівненська  269.00  267.000000  193.0   158   118   159  148.00   \n",
            "17            Сумська  216.00  184.000000  132.0   115    70    97   92.00   \n",
            "18      Тернопільська  213.00  216.000000  157.0   142    92   113  109.00   \n",
            "19         Харківська  197.00  173.000000  140.0   114    68    99  101.00   \n",
            "20         Херсонська  208.00  214.000000  166.0   143    85   117  115.00   \n",
            "21        Хмельницька  234.00  198.000000  148.0   129    85   113  112.00   \n",
            "22          Черкаська  205.00  179.000000  144.0   123    75   100   98.00   \n",
            "23        Чернівецька  247.00  218.000000  170.0   148   101   128  129.00   \n",
            "24       Чернігівська  220.00  183.000000  127.0   108    69    94   90.00   \n",
            "25               Київ  231.04  174.000000  159.0   120    73   120  121.00   \n",
            "26        Севастополь  231.04  207.576923  156.0   125    70   120  111.44   \n",
            "\n",
            "          2019  \n",
            "0    80.173913  \n",
            "1    76.000000  \n",
            "2   101.000000  \n",
            "3    71.000000  \n",
            "4    80.173913  \n",
            "5    79.000000  \n",
            "6   104.000000  \n",
            "7    68.000000  \n",
            "8    88.000000  \n",
            "9    80.000000  \n",
            "10   68.000000  \n",
            "11   80.173913  \n",
            "12   87.000000  \n",
            "13   71.000000  \n",
            "14   88.000000  \n",
            "15   65.000000  \n",
            "16  107.000000  \n",
            "17   60.000000  \n",
            "18   76.000000  \n",
            "19   68.000000  \n",
            "20   81.000000  \n",
            "21   79.000000  \n",
            "22   64.000000  \n",
            "23   92.000000  \n",
            "24   61.000000  \n",
            "25  110.000000  \n",
            "26   80.173913  \n"
          ]
        },
        {
          "output_type": "stream",
          "name": "stderr",
          "text": [
            "<ipython-input-24-bb3f54835b90>:1: SettingWithCopyWarning: \n",
            "A value is trying to be set on a copy of a slice from a DataFrame\n",
            "\n",
            "See the caveats in the documentation: https://pandas.pydata.org/pandas-docs/stable/user_guide/indexing.html#returning-a-view-versus-a-copy\n",
            "  table_13.replace(\"—\", np.nan, inplace=True)\n",
            "<ipython-input-24-bb3f54835b90>:3: SettingWithCopyWarning: \n",
            "A value is trying to be set on a copy of a slice from a DataFrame.\n",
            "Try using .loc[row_indexer,col_indexer] = value instead\n",
            "\n",
            "See the caveats in the documentation: https://pandas.pydata.org/pandas-docs/stable/user_guide/indexing.html#returning-a-view-versus-a-copy\n",
            "  table_13[col] = pd.to_numeric(table_13[col], errors='coerce')\n",
            "<ipython-input-24-bb3f54835b90>:5: SettingWithCopyWarning: \n",
            "A value is trying to be set on a copy of a slice from a DataFrame.\n",
            "Try using .loc[row_indexer,col_indexer] = value instead\n",
            "\n",
            "See the caveats in the documentation: https://pandas.pydata.org/pandas-docs/stable/user_guide/indexing.html#returning-a-view-versus-a-copy\n",
            "  table_13[numeric_cols] = table_13[numeric_cols].apply(lambda x: x.fillna(x.mean()))\n"
          ]
        }
      ]
    },
    {
      "cell_type": "code",
      "source": [
        "mean_birth_rate_2019 = table_13['2019'].mean()\n",
        "\n",
        "# Get the list of regions where the birth rate in 2019 was higher than the average\n",
        "regions_above_average_2019 = table_13[table_13['2019'] > mean_birth_rate_2019]['Регіон']\n",
        "print(\"Regions with birth rate above average in 2019:\\n\", regions_above_average_2019)\n"
      ],
      "metadata": {
        "colab": {
          "base_uri": "https://localhost:8080/"
        },
        "id": "6piXZntnFm7N",
        "outputId": "eda18976-1352-413b-d32a-9f1699e36340"
      },
      "execution_count": null,
      "outputs": [
        {
          "output_type": "stream",
          "name": "stdout",
          "text": [
            "Regions with birth rate above average in 2019:\n",
            " 2             Волинська\n",
            "6          Закарпатська\n",
            "8     Івано-Франківська\n",
            "12            Львівська\n",
            "14              Одеська\n",
            "16           Рівненська\n",
            "20           Херсонська\n",
            "23          Чернівецька\n",
            "25                 Київ\n",
            "Name: Регіон, dtype: object\n"
          ]
        }
      ]
    },
    {
      "cell_type": "code",
      "source": [
        "highest_birth_rate_2014 = table_13.loc[table_13['2014'].idxmax()]['Регіон']\n",
        "print(\"Region with the highest birth rate in 2014:\", highest_birth_rate_2014)"
      ],
      "metadata": {
        "colab": {
          "base_uri": "https://localhost:8080/"
        },
        "id": "XiNdQBaYGD8y",
        "outputId": "3c361110-ca9d-453b-ca74-a13e94b978df"
      },
      "execution_count": null,
      "outputs": [
        {
          "output_type": "stream",
          "name": "stdout",
          "text": [
            "Region with the highest birth rate in 2014: Рівненська\n"
          ]
        }
      ]
    },
    {
      "cell_type": "code",
      "source": [
        "plt.figure(figsize=(12, 8))\n",
        "plt.bar(table_13['Регіон'], table_13['2019'])\n",
        "plt.xlabel('Регіон')\n",
        "plt.ylabel('Народжуваність у 2019 році')\n",
        "plt.title('Народжуваність по регіонах у 2019 році')\n",
        "plt.xticks(rotation=90)\n",
        "plt.tight_layout()\n",
        "plt.show()"
      ],
      "metadata": {
        "colab": {
          "base_uri": "https://localhost:8080/",
          "height": 748
        },
        "id": "kUYnOPDaGHzs",
        "outputId": "2513a589-d052-428a-dcd5-fff84c2d8e04"
      },
      "execution_count": null,
      "outputs": [
        {
          "output_type": "display_data",
          "data": {
            "text/plain": [
              "<Figure size 1200x800 with 1 Axes>"
            ],
            "image/png": "[encoded data removed]"
          },
          "metadata": {}
        }
      ]
    }
  ],
  "metadata": {
    "kernelspec": {
      "display_name": "Python 3",
      "language": "python",
      "name": "python3"
    },
    "language_info": {
      "codemirror_mode": {
        "name": "ipython",
        "version": 3
      },
      "file_extension": ".py",
      "mimetype": "text/x-python",
      "name": "python",
      "nbconvert_exporter": "python",
      "pygments_lexer": "ipython3",
      "version": "3.11.4"
    },
    "orig_nbformat": 4,
    "colab": {
      "provenance": [],
      "include_colab_link": true
    }
  },
  "nbformat": 4,
  "nbformat_minor": 0
}