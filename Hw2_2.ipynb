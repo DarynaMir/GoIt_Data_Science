{
  "cells": [
    {
      "cell_type": "markdown",
      "metadata": {
        "id": "view-in-github",
        "colab_type": "text"
      },
      "source": [
        "<a href=\"https://colab.research.google.com/github/DarynaMir/GoIt_Data_Science/blob/main/Hw2_2.ipynb\" target=\"_parent\"><img src=\"https://colab.research.google.com/assets/colab-badge.svg\" alt=\"Open In Colab\"/></a>"
      ]
    },
    {
      "cell_type": "markdown",
      "source": [
        "1. Прочитайте файл 2017_jun_final.csv за допомогою методу read_csv\n",
        "2. Прочитайте отриману таблицю, використовуючи метод head"
      ],
      "metadata": {
        "id": "jF-IkJh0fOEc"
      }
    },
    {
      "cell_type": "code",
      "execution_count": 1,
      "metadata": {
        "id": "Z8h4Fw4-dMuj",
        "colab": {
          "base_uri": "https://localhost:8080/"
        },
        "outputId": "ee092652-c93e-451e-d7a8-af201d11a575"
      },
      "outputs": [
        {
          "output_type": "stream",
          "name": "stdout",
          "text": [
            "   N                    Посада Мова програмування Спеціалізація  \\\n",
            "0  1        Junior QA engineer                NaN     Manual QA   \n",
            "1  2        Junior QA engineer                NaN     Manual QA   \n",
            "2  3         Software Engineer            C#/.NET           NaN   \n",
            "3  4         Software Engineer         JavaScript           NaN   \n",
            "4  5  Senior Software Engineer         JavaScript           NaN   \n",
            "\n",
            "  Загальний досвід роботи Досвід роботи на поточному місці  \\\n",
            "0                     0.5                              0.5   \n",
            "1         менше 3 місяців                  менше 3 місяців   \n",
            "2                       4                                1   \n",
            "3                       5                                4   \n",
            "4       10 і більше років                              0.5   \n",
            "\n",
            "   Зарплата на місяць  Зміна зарплати за 12 місяців   Місто   Розмір компанії  \\\n",
            "0                 400                             0  Харків        до 10 осіб   \n",
            "1                 430                           130  Харків  більше 1000 осіб   \n",
            "2                2500                           800    Київ      до 1000 осіб   \n",
            "3                2000                           400   Одеса       до 200 осіб   \n",
            "4                4500                           500    Інше        до 10 осіб   \n",
            "\n",
            "   ... Ще студент                    Рівень англійської  \\\n",
            "0  ...       True    Pre-intermediate (нище середнього)   \n",
            "1  ...       True  Upper-Intermediate (вище середнього)   \n",
            "2  ...      False               Intermediate (середній)   \n",
            "3  ...      False    Pre-intermediate (нище середнього)   \n",
            "4  ...      False               Intermediate (середній)   \n",
            "\n",
            "                   Предметна область      Дата заповнення  \\\n",
            "0                      iOS,eCommerce  12/06/2017 12:38:08   \n",
            "1                       Веб-розробка  12/06/2017 12:42:51   \n",
            "2  Веб-розробка,Корпоративні системи  12/06/2017 13:02:47   \n",
            "3  Desktop Applications,Веб-розробка  12/06/2017 13:03:01   \n",
            "4  Desktop Applications,Веб-розробка  12/06/2017 13:03:47   \n",
            "\n",
            "                                          User.Agent   exp current_job_exp  \\\n",
            "0  Mozilla/5.0 (Windows NT 10.0; Win64; x64) Appl...   0.5             0.5   \n",
            "1  Mozilla/5.0 (iPad; CPU OS 10_2_1 like Mac OS X...   0.0             0.0   \n",
            "2  Mozilla/5.0 (Windows NT 10.0; Win64; x64) Appl...   4.0             1.0   \n",
            "3  Mozilla/5.0 (Windows NT 6.1; Win64; x64) Apple...   5.0             4.0   \n",
            "4  Mozilla/5.0 (iPhone; CPU iPhone OS 10_3_2 like...  10.0             0.5   \n",
            "\n",
            "  salary Валюта  cls  \n",
            "0    400    NaN   QA  \n",
            "1    430    NaN   QA  \n",
            "2   2500    NaN  DEV  \n",
            "3   2000    NaN  DEV  \n",
            "4   4500    NaN  DEV  \n",
            "\n",
            "[5 rows x 25 columns]\n"
          ]
        }
      ],
      "source": [
        "import pandas as pd\n",
        "\n",
        "url = \"https://docs.google.com/spreadsheets/d/1bclX5PbqE8zR1-wOSM3ZTFa53sIC7RXqwty7Abmw9yQ/export?format=csv\"\n",
        "\n",
        "table_poll = pd.read_csv(url)\n",
        "\n",
        "print(table_poll.head())"
      ]
    },
    {
      "cell_type": "markdown",
      "source": [
        "3. Визначте розмір таблиці за допомогою методу shape"
      ],
      "metadata": {
        "id": "28YPnsZwfwYs"
      }
    },
    {
      "cell_type": "code",
      "source": [
        "print(\"Shape of table_poll:\", table_poll.shape)"
      ],
      "metadata": {
        "colab": {
          "base_uri": "https://localhost:8080/"
        },
        "id": "LWSxZmhPi7h0",
        "outputId": "06f38e35-2ae6-4c75-cb4e-83e2412e2fec"
      },
      "execution_count": 2,
      "outputs": [
        {
          "output_type": "stream",
          "name": "stdout",
          "text": [
            "Shape of table_poll: (8704, 25)\n"
          ]
        }
      ]
    },
    {
      "cell_type": "markdown",
      "source": [
        "4. Визначте типи всіх стовпців за допомогою dataframe.dtypes"
      ],
      "metadata": {
        "id": "X3H-qFtPf1Gl"
      }
    },
    {
      "cell_type": "code",
      "source": [
        "print(table_poll.dtypes)"
      ],
      "metadata": {
        "colab": {
          "base_uri": "https://localhost:8080/"
        },
        "id": "5VnuddBPj4vx",
        "outputId": "833ba644-93a7-4b56-dd6a-628839870356"
      },
      "execution_count": 3,
      "outputs": [
        {
          "output_type": "stream",
          "name": "stdout",
          "text": [
            "N                                     int64\n",
            "Посада                               object\n",
            "Мова програмування                   object\n",
            "Спеціалізація                        object\n",
            "Загальний досвід роботи              object\n",
            "Досвід роботи на поточному місці     object\n",
            "Зарплата на місяць                    int64\n",
            "Зміна зарплати за 12 місяців          int64\n",
            "Місто                                object\n",
            "Розмір компанії                      object\n",
            "Тип компанії                         object\n",
            "Стать                                object\n",
            "Вік                                   int64\n",
            "Освіта                               object\n",
            "Університет                          object\n",
            "Ще студент                             bool\n",
            "Рівень англійської                   object\n",
            "Предметна область                    object\n",
            "Дата заповнення                      object\n",
            "User.Agent                           object\n",
            "exp                                 float64\n",
            "current_job_exp                     float64\n",
            "salary                                int64\n",
            "Валюта                               object\n",
            "cls                                  object\n",
            "dtype: object\n"
          ]
        }
      ]
    },
    {
      "cell_type": "markdown",
      "source": [
        "5. Порахуйте, яка частка пропусків міститься в кожній колонці (використовуйте методи isnull та sum)"
      ],
      "metadata": {
        "id": "gzXnGCZbgCPG"
      }
    },
    {
      "cell_type": "code",
      "source": [
        "missing_values = table_poll.isnull().sum() / len(table_poll)\n",
        "print(\"Proportion of missing values in each column:\\n\", missing_values)"
      ],
      "metadata": {
        "colab": {
          "base_uri": "https://localhost:8080/"
        },
        "id": "Vo6lIDuquCvU",
        "outputId": "566c9145-8f07-459f-d713-c662c3814248"
      },
      "execution_count": 4,
      "outputs": [
        {
          "output_type": "stream",
          "name": "stdout",
          "text": [
            "Proportion of missing values in each column:\n",
            " N                                   0.000000\n",
            "Посада                              0.000000\n",
            "Мова програмування                  0.442325\n",
            "Спеціалізація                       0.829389\n",
            "Загальний досвід роботи             0.000000\n",
            "Досвід роботи на поточному місці    0.000000\n",
            "Зарплата на місяць                  0.000000\n",
            "Зміна зарплати за 12 місяців        0.000000\n",
            "Місто                               0.000000\n",
            "Розмір компанії                     0.000000\n",
            "Тип компанії                        0.000000\n",
            "Стать                               0.000000\n",
            "Вік                                 0.000000\n",
            "Освіта                              0.000000\n",
            "Університет                         0.041131\n",
            "Ще студент                          0.000000\n",
            "Рівень англійської                  0.000000\n",
            "Предметна область                   0.025620\n",
            "Дата заповнення                     0.000000\n",
            "User.Agent                          0.000000\n",
            "exp                                 0.000000\n",
            "current_job_exp                     0.000000\n",
            "salary                              0.000000\n",
            "Валюта                              0.998851\n",
            "cls                                 0.180836\n",
            "dtype: float64\n"
          ]
        }
      ]
    },
    {
      "cell_type": "markdown",
      "source": [
        "6. Видаліть усі стовпці з пропусками, крім стовпця \"Мова програмування\""
      ],
      "metadata": {
        "id": "-BklOwhGgFrW"
      }
    },
    {
      "cell_type": "code",
      "source": [
        "cols_with_na = table_poll.columns[table_poll.isna().any()].tolist()\n",
        "cols_with_na.remove(\"Мова програмування\")\n",
        "\n",
        "poll_cleaned = table_poll.drop(columns=cols_with_na)\n",
        "\n",
        "print(\"\\nDataFrame after dropping columns with missing values (except 'Мова програмування'):\\n\", poll_cleaned.head())"
      ],
      "metadata": {
        "colab": {
          "base_uri": "https://localhost:8080/"
        },
        "id": "6VVczv9Vvi4D",
        "outputId": "6aa6d76e-b77d-4d0e-ac6c-5069bea916c0"
      },
      "execution_count": 5,
      "outputs": [
        {
          "output_type": "stream",
          "name": "stdout",
          "text": [
            "\n",
            "DataFrame after dropping columns with missing values (except 'Мова програмування'):\n",
            "    N                    Посада Мова програмування Загальний досвід роботи  \\\n",
            "0  1        Junior QA engineer                NaN                     0.5   \n",
            "1  2        Junior QA engineer                NaN         менше 3 місяців   \n",
            "2  3         Software Engineer            C#/.NET                       4   \n",
            "3  4         Software Engineer         JavaScript                       5   \n",
            "4  5  Senior Software Engineer         JavaScript       10 і більше років   \n",
            "\n",
            "  Досвід роботи на поточному місці  Зарплата на місяць  \\\n",
            "0                              0.5                 400   \n",
            "1                  менше 3 місяців                 430   \n",
            "2                                1                2500   \n",
            "3                                4                2000   \n",
            "4                              0.5                4500   \n",
            "\n",
            "   Зміна зарплати за 12 місяців   Місто   Розмір компанії   Тип компанії  \\\n",
            "0                             0  Харків        до 10 осіб  Аутсорсингова   \n",
            "1                           130  Харків  більше 1000 осіб  Аутсорсингова   \n",
            "2                           800    Київ      до 1000 осіб  Аутсорсингова   \n",
            "3                           400   Одеса       до 200 осіб     Продуктова   \n",
            "4                           500    Інше        до 10 осіб     Продуктова   \n",
            "\n",
            "      Стать  Вік             Освіта  Ще студент  \\\n",
            "0    жіноча   20       Неповна Вища        True   \n",
            "1    жіноча   21       Неповна Вища        True   \n",
            "2  чоловіча   26               Вища       False   \n",
            "3  чоловіча   30            Середня       False   \n",
            "4  чоловіча   30  Технікум / Коледж       False   \n",
            "\n",
            "                     Рівень англійської      Дата заповнення  \\\n",
            "0    Pre-intermediate (нище середнього)  12/06/2017 12:38:08   \n",
            "1  Upper-Intermediate (вище середнього)  12/06/2017 12:42:51   \n",
            "2               Intermediate (середній)  12/06/2017 13:02:47   \n",
            "3    Pre-intermediate (нище середнього)  12/06/2017 13:03:01   \n",
            "4               Intermediate (середній)  12/06/2017 13:03:47   \n",
            "\n",
            "                                          User.Agent   exp  current_job_exp  \\\n",
            "0  Mozilla/5.0 (Windows NT 10.0; Win64; x64) Appl...   0.5              0.5   \n",
            "1  Mozilla/5.0 (iPad; CPU OS 10_2_1 like Mac OS X...   0.0              0.0   \n",
            "2  Mozilla/5.0 (Windows NT 10.0; Win64; x64) Appl...   4.0              1.0   \n",
            "3  Mozilla/5.0 (Windows NT 6.1; Win64; x64) Apple...   5.0              4.0   \n",
            "4  Mozilla/5.0 (iPhone; CPU iPhone OS 10_3_2 like...  10.0              0.5   \n",
            "\n",
            "   salary  \n",
            "0     400  \n",
            "1     430  \n",
            "2    2500  \n",
            "3    2000  \n",
            "4    4500  \n"
          ]
        }
      ]
    },
    {
      "cell_type": "markdown",
      "source": [
        "7. Знову порахуйте, яка частка пропусків міститься в кожній колонці і переконайтеся, що залишився тільки стовпець \"Мова.програмування\""
      ],
      "metadata": {
        "id": "CO2gbOdGhgjb"
      }
    },
    {
      "cell_type": "code",
      "source": [
        "print(\"Remaining missing values:\\n\", poll_cleaned.isnull().sum())"
      ],
      "metadata": {
        "colab": {
          "base_uri": "https://localhost:8080/"
        },
        "id": "jDtHlz7ZhU6Q",
        "outputId": "26d740b7-dc11-4293-ce66-bcb776e696ca"
      },
      "execution_count": 28,
      "outputs": [
        {
          "output_type": "stream",
          "name": "stdout",
          "text": [
            "Remaining missing values:\n",
            " N                                      0\n",
            "Посада                                 0\n",
            "Мова програмування                  3850\n",
            "Загальний досвід роботи                0\n",
            "Досвід роботи на поточному місці       0\n",
            "Зарплата на місяць                     0\n",
            "Зміна зарплати за 12 місяців           0\n",
            "Місто                                  0\n",
            "Розмір компанії                        0\n",
            "Тип компанії                           0\n",
            "Стать                                  0\n",
            "Вік                                    0\n",
            "Освіта                                 0\n",
            "Ще студент                             0\n",
            "Рівень англійської                     0\n",
            "Дата заповнення                        0\n",
            "User.Agent                             0\n",
            "exp                                    0\n",
            "current_job_exp                        0\n",
            "salary                                 0\n",
            "dtype: int64\n"
          ]
        }
      ]
    },
    {
      "cell_type": "markdown",
      "source": [
        "8. Видаліть усі рядки у вихідній таблиці за допомогою методу dropna\n",
        "9. Визначте новий розмір таблиці за допомогою методу shape"
      ],
      "metadata": {
        "id": "7a_hzO8ch2-g"
      }
    },
    {
      "cell_type": "code",
      "source": [
        "poll_cleaned = poll_cleaned.dropna()\n",
        "\n",
        "print(\"New shape after dropping rows with missing values:\", poll_cleaned.shape)"
      ],
      "metadata": {
        "colab": {
          "base_uri": "https://localhost:8080/"
        },
        "id": "BXc-uNJeh0rT",
        "outputId": "e7d28efa-8134-484e-8ba7-511ec06cb5ed"
      },
      "execution_count": 29,
      "outputs": [
        {
          "output_type": "stream",
          "name": "stdout",
          "text": [
            "New shape after dropping rows with missing values: (4854, 20)\n"
          ]
        }
      ]
    },
    {
      "cell_type": "markdown",
      "source": [
        "10. Створіть нову таблицю python_data, в якій будуть тільки рядки зі спеціалістами, які вказали мову програмування Python"
      ],
      "metadata": {
        "id": "o7S0ZAviigbt"
      }
    },
    {
      "cell_type": "code",
      "source": [
        "python_data = poll_cleaned[poll_cleaned[\"Мова програмування\"] == \"Python\"]\n",
        "\n",
        "print(\"\\nDataFrame with only Python programmers:\")\n",
        "print(python_data.head())"
      ],
      "metadata": {
        "colab": {
          "base_uri": "https://localhost:8080/"
        },
        "id": "gzsTXSELzy2U",
        "outputId": "07b4837e-bd7a-41cc-ed07-cd380c17eaaa"
      },
      "execution_count": 9,
      "outputs": [
        {
          "output_type": "stream",
          "name": "stdout",
          "text": [
            "\n",
            "DataFrame with only Python programmers:\n",
            "       N                    Посада Мова програмування Загальний досвід роботи  \\\n",
            "12    13         Software Engineer             Python                       1   \n",
            "68    69         Software Engineer             Python                     1.5   \n",
            "87    88  Junior Software Engineer             Python                     0.5   \n",
            "114  115  Junior Software Engineer             Python                     1.5   \n",
            "143  144  Junior Software Engineer             Python                       1   \n",
            "\n",
            "    Досвід роботи на поточному місці  Зарплата на місяць  \\\n",
            "12                   менше 3 місяців                 800   \n",
            "68                               0.5                 900   \n",
            "87                               0.5                 600   \n",
            "114                              0.5                 685   \n",
            "143                                1                 750   \n",
            "\n",
            "     Зміна зарплати за 12 місяців Місто Розмір компанії   Тип компанії  \\\n",
            "12                            200  Київ      до 50 осіб  Аутсорсингова   \n",
            "68                            900  Київ      до 10 осіб        Стартап   \n",
            "87                              0  Київ      до 10 осіб  Аутсорсингова   \n",
            "114                           250  Київ    до 1000 осіб  Аутсорсингова   \n",
            "143                           250  Київ      до 10 осіб  Аутсорсингова   \n",
            "\n",
            "        Стать  Вік        Освіта  Ще студент  \\\n",
            "12   чоловіча   26          Вища       False   \n",
            "68   чоловіча   21  Неповна Вища        True   \n",
            "87   чоловіча   19  Неповна Вища        True   \n",
            "114  чоловіча   21  Неповна Вища       False   \n",
            "143  чоловіча   21  Неповна Вища        True   \n",
            "\n",
            "                       Рівень англійської      Дата заповнення  \\\n",
            "12     Pre-intermediate (нище середнього)  12/06/2017 13:05:54   \n",
            "68   Upper-Intermediate (вище середнього)  12/06/2017 13:11:17   \n",
            "87   Upper-Intermediate (вище середнього)  12/06/2017 13:12:25   \n",
            "114               Intermediate (середній)  12/06/2017 13:14:52   \n",
            "143  Upper-Intermediate (вище середнього)  12/06/2017 13:19:10   \n",
            "\n",
            "                                            User.Agent  exp  current_job_exp  \\\n",
            "12   Mozilla/5.0 (Windows NT 6.1; Win64; x64) Apple...  1.0              0.0   \n",
            "68   Mozilla/5.0 (Windows NT 10.0; Win64; x64) Appl...  1.5              0.5   \n",
            "87   Mozilla/5.0 (X11; Linux x86_64) AppleWebKit/53...  0.5              0.5   \n",
            "114  Mozilla/5.0 (X11; Linux x86_64) AppleWebKit/53...  1.5              0.5   \n",
            "143  Mozilla/5.0 (X11; Linux x86_64) AppleWebKit/53...  1.0              1.0   \n",
            "\n",
            "     salary  \n",
            "12      800  \n",
            "68      900  \n",
            "87      600  \n",
            "114     685  \n",
            "143     750  \n"
          ]
        }
      ]
    },
    {
      "cell_type": "markdown",
      "source": [
        "11. Визначте розмір таблиці python_data за допомогою методу shape"
      ],
      "metadata": {
        "id": "zSmpF1Bgiz-M"
      }
    },
    {
      "cell_type": "code",
      "source": [
        "print(\"Shape of python_data:\",python_data.shape)"
      ],
      "metadata": {
        "colab": {
          "base_uri": "https://localhost:8080/"
        },
        "id": "e4tgLlz8z8dC",
        "outputId": "b861ccaf-e876-49b2-e674-2ea7a0797257"
      },
      "execution_count": 10,
      "outputs": [
        {
          "output_type": "stream",
          "name": "stdout",
          "text": [
            "Shape of python_data: (207, 20)\n"
          ]
        }
      ]
    },
    {
      "cell_type": "markdown",
      "source": [
        "12. Використовуючи метод groupby, виконайте групування за стовпчиком \"Посада\""
      ],
      "metadata": {
        "id": "QGDA2Chui2zN"
      }
    },
    {
      "cell_type": "code",
      "source": [
        "grouped = python_data.groupby('Посада')"
      ],
      "metadata": {
        "colab": {
          "base_uri": "https://localhost:8080/"
        },
        "id": "bw6loS9YOOQP",
        "outputId": "0a4e2a1b-a8d7-4cdc-e5dd-c67ae1d3902b"
      },
      "execution_count": 25,
      "outputs": [
        {
          "output_type": "stream",
          "name": "stdout",
          "text": [
            "<pandas.core.groupby.generic.DataFrameGroupBy object at 0x7ebe952313c0>\n"
          ]
        }
      ]
    },
    {
      "cell_type": "markdown",
      "source": [
        "13. Створіть новий DataFrame, де для згрупованих даних за стовпчиком \"Посада\", виконайте агрегацію даних за допомогою методу agg і знайдіть мінімальне та максимальне значення у стовпчику \"Зарплата на місяць\""
      ],
      "metadata": {
        "id": "uMyZBGqZi-4q"
      }
    },
    {
      "cell_type": "code",
      "source": [
        "agg_data = grouped['Зарплата на місяць'].agg(['min', 'max']).reset_index()\n",
        "print(\"Aggregated data with min and max salary:\\n\", agg_data)"
      ],
      "metadata": {
        "colab": {
          "base_uri": "https://localhost:8080/"
        },
        "id": "wUMwfK3VKiRZ",
        "outputId": "0daf9c60-ce25-42a8-be64-ff9dae2f78fa"
      },
      "execution_count": 18,
      "outputs": [
        {
          "output_type": "stream",
          "name": "stdout",
          "text": [
            "Aggregated data with min and max salary:\n",
            "                      Посада   min   max\n",
            "0  Junior Software Engineer   100  1250\n",
            "1  Senior Software Engineer  1300  9200\n",
            "2         Software Engineer   500  5400\n",
            "3          System Architect  3000  5000\n",
            "4            Technical Lead  1425  6200\n"
          ]
        }
      ]
    },
    {
      "cell_type": "markdown",
      "source": [
        "14. Створіть функцію fill_avg_salary, яка повертатиме середнє значення заробітної плати на місяць. Використовуйте її для методу apply та створіть новий стовпчик \"avg\""
      ],
      "metadata": {
        "id": "j3yUxfWpjVFO"
      }
    },
    {
      "cell_type": "code",
      "source": [
        "def fill_avg_salary(group):\n",
        "    return group.mean()\n",
        "\n",
        "python_data['avg'] = grouped['Зарплата на місяць'].transform(fill_avg_salary)\n",
        "print(python_data)"
      ],
      "metadata": {
        "colab": {
          "base_uri": "https://localhost:8080/"
        },
        "id": "y7PTqU6BMzGv",
        "outputId": "b67d2fc5-b870-4de5-975b-24dbdb023266"
      },
      "execution_count": 24,
      "outputs": [
        {
          "output_type": "stream",
          "name": "stdout",
          "text": [
            "         N                    Посада Мова програмування  \\\n",
            "12      13         Software Engineer             Python   \n",
            "68      69         Software Engineer             Python   \n",
            "87      88  Junior Software Engineer             Python   \n",
            "114    115  Junior Software Engineer             Python   \n",
            "143    144  Junior Software Engineer             Python   \n",
            "...    ...                       ...                ...   \n",
            "8546  8547         Software Engineer             Python   \n",
            "8625  8626         Software Engineer             Python   \n",
            "8635  8636  Senior Software Engineer             Python   \n",
            "8673  8674  Junior Software Engineer             Python   \n",
            "8695  8696         Software Engineer             Python   \n",
            "\n",
            "     Загальний досвід роботи Досвід роботи на поточному місці  \\\n",
            "12                         1                  менше 3 місяців   \n",
            "68                       1.5                              0.5   \n",
            "87                       0.5                              0.5   \n",
            "114                      1.5                              0.5   \n",
            "143                        1                                1   \n",
            "...                      ...                              ...   \n",
            "8546                       5                                1   \n",
            "8625                       4                                1   \n",
            "8635       10 і більше років                  менше 3 місяців   \n",
            "8673                     0.5                              0.5   \n",
            "8695                       1                              0.5   \n",
            "\n",
            "      Зарплата на місяць  Зміна зарплати за 12 місяців      Місто  \\\n",
            "12                   800                           200       Київ   \n",
            "68                   900                           900       Київ   \n",
            "87                   600                             0       Київ   \n",
            "114                  685                           250       Київ   \n",
            "143                  750                           250       Київ   \n",
            "...                  ...                           ...        ...   \n",
            "8546                2000                           800  Запоріжжя   \n",
            "8625                1750                             0       Київ   \n",
            "8635                4000                          1300  Віддалено   \n",
            "8673                 350                            50       Київ   \n",
            "8695                1500                          1000       Київ   \n",
            "\n",
            "       Розмір компанії   Тип компанії  ... Вік        Освіта Ще студент  \\\n",
            "12          до 50 осіб  Аутсорсингова  ...  26          Вища      False   \n",
            "68          до 10 осіб        Стартап  ...  21  Неповна Вища       True   \n",
            "87          до 10 осіб  Аутсорсингова  ...  19  Неповна Вища       True   \n",
            "114       до 1000 осіб  Аутсорсингова  ...  21  Неповна Вища      False   \n",
            "143         до 10 осіб  Аутсорсингова  ...  21  Неповна Вища       True   \n",
            "...                ...            ...  ...  ..           ...        ...   \n",
            "8546        до 50 осіб  Аутсорсингова  ...  22  Неповна Вища      False   \n",
            "8625  більше 1000 осіб  Аутсорсингова  ...  28       Середня      False   \n",
            "8635        до 10 осіб        Стартап  ...  33          Вища      False   \n",
            "8673        до 50 осіб  Аутсорсингова  ...  22          Вища      False   \n",
            "8695        до 10 осіб        Стартап  ...  29          Вища      False   \n",
            "\n",
            "                        Рівень англійської      Дата заповнення  \\\n",
            "12      Pre-intermediate (нище середнього)  12/06/2017 13:05:54   \n",
            "68    Upper-Intermediate (вище середнього)  12/06/2017 13:11:17   \n",
            "87    Upper-Intermediate (вище середнього)  12/06/2017 13:12:25   \n",
            "114                Intermediate (середній)  12/06/2017 13:14:52   \n",
            "143   Upper-Intermediate (вище середнього)  12/06/2017 13:19:10   \n",
            "...                                    ...                  ...   \n",
            "8546               Intermediate (середній)  10/07/2017 14:11:26   \n",
            "8625               Intermediate (середній)  11/07/2017 16:15:40   \n",
            "8635  Upper-Intermediate (вище середнього)  11/07/2017 17:51:36   \n",
            "8673               Intermediate (середній)   12/07/2017 9:37:16   \n",
            "8695               Intermediate (середній)  12/07/2017 14:39:21   \n",
            "\n",
            "                                             User.Agent   exp  \\\n",
            "12    Mozilla/5.0 (Windows NT 6.1; Win64; x64) Apple...   1.0   \n",
            "68    Mozilla/5.0 (Windows NT 10.0; Win64; x64) Appl...   1.5   \n",
            "87    Mozilla/5.0 (X11; Linux x86_64) AppleWebKit/53...   0.5   \n",
            "114   Mozilla/5.0 (X11; Linux x86_64) AppleWebKit/53...   1.5   \n",
            "143   Mozilla/5.0 (X11; Linux x86_64) AppleWebKit/53...   1.0   \n",
            "...                                                 ...   ...   \n",
            "8546  Mozilla/5.0 (Macintosh; Intel Mac OS X 10_12_5...   5.0   \n",
            "8625  Mozilla/5.0 (X11; Ubuntu; Linux x86_64; rv:54....   4.0   \n",
            "8635  Mozilla/5.0 (X11; Linux x86_64) AppleWebKit/53...  10.0   \n",
            "8673  Mozilla/5.0 (X11; Ubuntu; Linux x86_64; rv:54....   0.5   \n",
            "8695  Mozilla/5.0 (X11; Linux x86_64) AppleWebKit/53...   1.0   \n",
            "\n",
            "      current_job_exp  salary          avg  \n",
            "12                0.0     800  1799.070000  \n",
            "68                0.5     900  1799.070000  \n",
            "87                0.5     600   560.841270  \n",
            "114               0.5     685   560.841270  \n",
            "143               1.0     750   560.841270  \n",
            "...               ...     ...          ...  \n",
            "8546              1.0    2000  1799.070000  \n",
            "8625              1.0    1750  1799.070000  \n",
            "8635              0.0    4000  3387.096774  \n",
            "8673              0.5     350   560.841270  \n",
            "8695              0.5    1500  1799.070000  \n",
            "\n",
            "[207 rows x 21 columns]\n"
          ]
        },
        {
          "output_type": "stream",
          "name": "stderr",
          "text": [
            "<ipython-input-24-9ee93ec2f3cc>:4: SettingWithCopyWarning: \n",
            "A value is trying to be set on a copy of a slice from a DataFrame.\n",
            "Try using .loc[row_indexer,col_indexer] = value instead\n",
            "\n",
            "See the caveats in the documentation: https://pandas.pydata.org/pandas-docs/stable/user_guide/indexing.html#returning-a-view-versus-a-copy\n",
            "  python_data['avg'] = grouped['Зарплата на місяць'].transform(fill_avg_salary)\n"
          ]
        }
      ]
    },
    {
      "cell_type": "markdown",
      "source": [
        "15. Створіть описову статистику за допомогою методу describe для нового стовпчика."
      ],
      "metadata": {
        "id": "a7flHnnXjc47"
      }
    },
    {
      "cell_type": "code",
      "source": [
        "describe_avg = python_data['avg'].describe()\n",
        "print(\"Descriptive statistics for 'avg':\\n\", describe_avg)"
      ],
      "metadata": {
        "colab": {
          "base_uri": "https://localhost:8080/"
        },
        "id": "G0Poa3J1kOVu",
        "outputId": "33592d60-259f-4dcf-d2c9-1d8bc1389621"
      },
      "execution_count": 23,
      "outputs": [
        {
          "output_type": "stream",
          "name": "stdout",
          "text": [
            "Descriptive statistics for 'avg':\n",
            " count     207.000000\n",
            "mean     1753.937198\n",
            "std       996.562606\n",
            "min       560.841270\n",
            "25%       560.841270\n",
            "50%      1799.070000\n",
            "75%      1799.070000\n",
            "max      4000.000000\n",
            "Name: avg, dtype: float64\n"
          ]
        }
      ]
    },
    {
      "cell_type": "markdown",
      "source": [
        "16. Збережіть отриману таблицю в CSV файл"
      ],
      "metadata": {
        "id": "iCh0jStjjiH_"
      }
    },
    {
      "cell_type": "code",
      "source": [
        "python_data.to_csv('python_data.csv', index=False)"
      ],
      "metadata": {
        "id": "xEiRqGj7pCp3"
      },
      "execution_count": 27,
      "outputs": []
    }
  ],
  "metadata": {
    "kernelspec": {
      "display_name": "Python 3",
      "language": "python",
      "name": "python3"
    },
    "language_info": {
      "codemirror_mode": {
        "name": "ipython",
        "version": 3
      },
      "file_extension": ".py",
      "mimetype": "text/x-python",
      "name": "python",
      "nbconvert_exporter": "python",
      "pygments_lexer": "ipython3",
      "version": "3.11.4"
    },
    "orig_nbformat": 4,
    "colab": {
      "provenance": [],
      "include_colab_link": true
    }
  },
  "nbformat": 4,
  "nbformat_minor": 0
}